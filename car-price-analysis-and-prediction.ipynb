{
 "cells": [
  {
   "attachments": {},
   "cell_type": "markdown",
   "id": "293a8c06",
   "metadata": {},
   "source": [
    "In statistics, an outlier is a data point that differs significantly from other observations.\n",
    "\n",
    "anomalies = Anomalies are instances or collections of data that occur very rarely in the data set and whose features differ significantly from most of the data."
   ]
  },
  {
   "cell_type": "markdown",
   "id": "5c6c23c4",
   "metadata": {
    "_cell_guid": "b1076dfc-b9ad-4769-8c92-a6c4dae69d19",
    "_uuid": "8f2839f25d086af736a60e9eeb907d3b93b6e0e5",
    "execution": {
     "iopub.execute_input": "2022-09-26T10:56:42.978605Z",
     "iopub.status.busy": "2022-09-26T10:56:42.978188Z",
     "iopub.status.idle": "2022-09-26T10:56:42.989345Z",
     "shell.execute_reply": "2022-09-26T10:56:42.987846Z",
     "shell.execute_reply.started": "2022-09-26T10:56:42.978569Z"
    },
    "papermill": {
     "duration": 0.027113,
     "end_time": "2022-10-07T07:02:58.449883",
     "exception": false,
     "start_time": "2022-10-07T07:02:58.422770",
     "status": "completed"
    },
    "tags": []
   },
   "source": [
    "# Importing dependencies"
   ]
  },
  {
   "cell_type": "code",
   "execution_count": 64,
   "id": "49e0a1d8",
   "metadata": {
    "execution": {
     "iopub.execute_input": "2022-10-07T07:02:58.496583Z",
     "iopub.status.busy": "2022-10-07T07:02:58.496077Z",
     "iopub.status.idle": "2022-10-07T07:03:01.290503Z",
     "shell.execute_reply": "2022-10-07T07:03:01.288901Z"
    },
    "papermill": {
     "duration": 2.822985,
     "end_time": "2022-10-07T07:03:01.295223",
     "exception": false,
     "start_time": "2022-10-07T07:02:58.472238",
     "status": "completed"
    },
    "tags": []
   },
   "outputs": [],
   "source": [
    "import numpy as np \n",
    "import pandas as pd \n",
    "import matplotlib.pyplot as plt\n",
    "import seaborn as sns\n",
    "import plotly.express as px\n",
    "import plotly.graph_objects as go\n",
    "\n",
    "from sklearn.model_selection import train_test_split  # (x,y)(test,train). \n",
    "from sklearn.preprocessing import StandardScaler\n",
    "\n",
    "from sklearn.ensemble import RandomForestRegressor\n",
    "from sklearn.pipeline import make_pipeline\n",
    "\n",
    "import math\n",
    "from sklearn.metrics import r2_score, mean_squared_error #mse \n",
    "\n",
    "\n",
    "        \n",
    "import warnings\n",
    "warnings.filterwarnings('ignore')"
   ]
  },
  {
   "cell_type": "markdown",
   "id": "dd549820",
   "metadata": {
    "papermill": {
     "duration": 0.023837,
     "end_time": "2022-10-07T07:03:01.342134",
     "exception": false,
     "start_time": "2022-10-07T07:03:01.318297",
     "status": "completed"
    },
    "tags": []
   },
   "source": [
    "# Reading CSV"
   ]
  },
  {
   "cell_type": "code",
   "execution_count": 65,
   "id": "f8083132",
   "metadata": {
    "execution": {
     "iopub.execute_input": "2022-10-07T07:03:01.391006Z",
     "iopub.status.busy": "2022-10-07T07:03:01.390170Z",
     "iopub.status.idle": "2022-10-07T07:03:01.465457Z",
     "shell.execute_reply": "2022-10-07T07:03:01.464316Z"
    },
    "papermill": {
     "duration": 0.101896,
     "end_time": "2022-10-07T07:03:01.468178",
     "exception": false,
     "start_time": "2022-10-07T07:03:01.366282",
     "status": "completed"
    },
    "tags": []
   },
   "outputs": [],
   "source": [
    "cars_data = pd.read_csv('data.csv')"
   ]
  },
  {
   "cell_type": "code",
   "execution_count": 66,
   "id": "2d53a7d3",
   "metadata": {
    "execution": {
     "iopub.execute_input": "2022-10-07T07:03:01.515123Z",
     "iopub.status.busy": "2022-10-07T07:03:01.514096Z",
     "iopub.status.idle": "2022-10-07T07:03:01.545577Z",
     "shell.execute_reply": "2022-10-07T07:03:01.544311Z"
    },
    "papermill": {
     "duration": 0.057839,
     "end_time": "2022-10-07T07:03:01.548423",
     "exception": false,
     "start_time": "2022-10-07T07:03:01.490584",
     "status": "completed"
    },
    "tags": []
   },
   "outputs": [
    {
     "data": {
      "text/html": [
       "<div>\n",
       "<style scoped>\n",
       "    .dataframe tbody tr th:only-of-type {\n",
       "        vertical-align: middle;\n",
       "    }\n",
       "\n",
       "    .dataframe tbody tr th {\n",
       "        vertical-align: top;\n",
       "    }\n",
       "\n",
       "    .dataframe thead th {\n",
       "        text-align: right;\n",
       "    }\n",
       "</style>\n",
       "<table border=\"1\" class=\"dataframe\">\n",
       "  <thead>\n",
       "    <tr style=\"text-align: right;\">\n",
       "      <th></th>\n",
       "      <th>Make</th>\n",
       "      <th>Model</th>\n",
       "      <th>Year</th>\n",
       "      <th>Engine Fuel Type</th>\n",
       "      <th>Engine HP</th>\n",
       "      <th>Engine Cylinders</th>\n",
       "      <th>Transmission Type</th>\n",
       "      <th>Driven_Wheels</th>\n",
       "      <th>Number of Doors</th>\n",
       "      <th>Market Category</th>\n",
       "      <th>Vehicle Size</th>\n",
       "      <th>Vehicle Style</th>\n",
       "      <th>highway MPG</th>\n",
       "      <th>city mpg</th>\n",
       "      <th>Popularity</th>\n",
       "      <th>MSRP</th>\n",
       "    </tr>\n",
       "  </thead>\n",
       "  <tbody>\n",
       "    <tr>\n",
       "      <th>0</th>\n",
       "      <td>BMW</td>\n",
       "      <td>1 Series M</td>\n",
       "      <td>2011</td>\n",
       "      <td>premium unleaded (required)</td>\n",
       "      <td>335.0</td>\n",
       "      <td>6.0</td>\n",
       "      <td>MANUAL</td>\n",
       "      <td>rear wheel drive</td>\n",
       "      <td>2.0</td>\n",
       "      <td>Factory Tuner,Luxury,High-Performance</td>\n",
       "      <td>Compact</td>\n",
       "      <td>Coupe</td>\n",
       "      <td>26</td>\n",
       "      <td>19</td>\n",
       "      <td>3916</td>\n",
       "      <td>46135</td>\n",
       "    </tr>\n",
       "    <tr>\n",
       "      <th>1</th>\n",
       "      <td>BMW</td>\n",
       "      <td>1 Series</td>\n",
       "      <td>2011</td>\n",
       "      <td>premium unleaded (required)</td>\n",
       "      <td>300.0</td>\n",
       "      <td>6.0</td>\n",
       "      <td>MANUAL</td>\n",
       "      <td>rear wheel drive</td>\n",
       "      <td>2.0</td>\n",
       "      <td>Luxury,Performance</td>\n",
       "      <td>Compact</td>\n",
       "      <td>Convertible</td>\n",
       "      <td>28</td>\n",
       "      <td>19</td>\n",
       "      <td>3916</td>\n",
       "      <td>40650</td>\n",
       "    </tr>\n",
       "    <tr>\n",
       "      <th>2</th>\n",
       "      <td>BMW</td>\n",
       "      <td>1 Series</td>\n",
       "      <td>2011</td>\n",
       "      <td>premium unleaded (required)</td>\n",
       "      <td>300.0</td>\n",
       "      <td>6.0</td>\n",
       "      <td>MANUAL</td>\n",
       "      <td>rear wheel drive</td>\n",
       "      <td>2.0</td>\n",
       "      <td>Luxury,High-Performance</td>\n",
       "      <td>Compact</td>\n",
       "      <td>Coupe</td>\n",
       "      <td>28</td>\n",
       "      <td>20</td>\n",
       "      <td>3916</td>\n",
       "      <td>36350</td>\n",
       "    </tr>\n",
       "    <tr>\n",
       "      <th>3</th>\n",
       "      <td>BMW</td>\n",
       "      <td>1 Series</td>\n",
       "      <td>2011</td>\n",
       "      <td>premium unleaded (required)</td>\n",
       "      <td>230.0</td>\n",
       "      <td>6.0</td>\n",
       "      <td>MANUAL</td>\n",
       "      <td>rear wheel drive</td>\n",
       "      <td>2.0</td>\n",
       "      <td>Luxury,Performance</td>\n",
       "      <td>Compact</td>\n",
       "      <td>Coupe</td>\n",
       "      <td>28</td>\n",
       "      <td>18</td>\n",
       "      <td>3916</td>\n",
       "      <td>29450</td>\n",
       "    </tr>\n",
       "    <tr>\n",
       "      <th>4</th>\n",
       "      <td>BMW</td>\n",
       "      <td>1 Series</td>\n",
       "      <td>2011</td>\n",
       "      <td>premium unleaded (required)</td>\n",
       "      <td>230.0</td>\n",
       "      <td>6.0</td>\n",
       "      <td>MANUAL</td>\n",
       "      <td>rear wheel drive</td>\n",
       "      <td>2.0</td>\n",
       "      <td>Luxury</td>\n",
       "      <td>Compact</td>\n",
       "      <td>Convertible</td>\n",
       "      <td>28</td>\n",
       "      <td>18</td>\n",
       "      <td>3916</td>\n",
       "      <td>34500</td>\n",
       "    </tr>\n",
       "  </tbody>\n",
       "</table>\n",
       "</div>"
      ],
      "text/plain": [
       "  Make       Model  Year             Engine Fuel Type  Engine HP  \\\n",
       "0  BMW  1 Series M  2011  premium unleaded (required)      335.0   \n",
       "1  BMW    1 Series  2011  premium unleaded (required)      300.0   \n",
       "2  BMW    1 Series  2011  premium unleaded (required)      300.0   \n",
       "3  BMW    1 Series  2011  premium unleaded (required)      230.0   \n",
       "4  BMW    1 Series  2011  premium unleaded (required)      230.0   \n",
       "\n",
       "   Engine Cylinders Transmission Type     Driven_Wheels  Number of Doors  \\\n",
       "0               6.0            MANUAL  rear wheel drive              2.0   \n",
       "1               6.0            MANUAL  rear wheel drive              2.0   \n",
       "2               6.0            MANUAL  rear wheel drive              2.0   \n",
       "3               6.0            MANUAL  rear wheel drive              2.0   \n",
       "4               6.0            MANUAL  rear wheel drive              2.0   \n",
       "\n",
       "                         Market Category Vehicle Size Vehicle Style  \\\n",
       "0  Factory Tuner,Luxury,High-Performance      Compact         Coupe   \n",
       "1                     Luxury,Performance      Compact   Convertible   \n",
       "2                Luxury,High-Performance      Compact         Coupe   \n",
       "3                     Luxury,Performance      Compact         Coupe   \n",
       "4                                 Luxury      Compact   Convertible   \n",
       "\n",
       "   highway MPG  city mpg  Popularity   MSRP  \n",
       "0           26        19        3916  46135  \n",
       "1           28        19        3916  40650  \n",
       "2           28        20        3916  36350  \n",
       "3           28        18        3916  29450  \n",
       "4           28        18        3916  34500  "
      ]
     },
     "execution_count": 66,
     "metadata": {},
     "output_type": "execute_result"
    }
   ],
   "source": [
    "cars_data.head()"
   ]
  },
  {
   "cell_type": "code",
   "execution_count": 67,
   "id": "2b2a41d8",
   "metadata": {
    "execution": {
     "iopub.execute_input": "2022-10-07T07:03:01.595041Z",
     "iopub.status.busy": "2022-10-07T07:03:01.594170Z",
     "iopub.status.idle": "2022-10-07T07:03:01.624522Z",
     "shell.execute_reply": "2022-10-07T07:03:01.622620Z"
    },
    "papermill": {
     "duration": 0.056976,
     "end_time": "2022-10-07T07:03:01.627439",
     "exception": false,
     "start_time": "2022-10-07T07:03:01.570463",
     "status": "completed"
    },
    "tags": []
   },
   "outputs": [
    {
     "name": "stdout",
     "output_type": "stream",
     "text": [
      "<class 'pandas.core.frame.DataFrame'>\n",
      "RangeIndex: 11914 entries, 0 to 11913\n",
      "Data columns (total 16 columns):\n",
      " #   Column             Non-Null Count  Dtype  \n",
      "---  ------             --------------  -----  \n",
      " 0   Make               11914 non-null  object \n",
      " 1   Model              11914 non-null  object \n",
      " 2   Year               11914 non-null  int64  \n",
      " 3   Engine Fuel Type   11911 non-null  object \n",
      " 4   Engine HP          11845 non-null  float64\n",
      " 5   Engine Cylinders   11884 non-null  float64\n",
      " 6   Transmission Type  11914 non-null  object \n",
      " 7   Driven_Wheels      11914 non-null  object \n",
      " 8   Number of Doors    11908 non-null  float64\n",
      " 9   Market Category    8172 non-null   object \n",
      " 10  Vehicle Size       11914 non-null  object \n",
      " 11  Vehicle Style      11914 non-null  object \n",
      " 12  highway MPG        11914 non-null  int64  \n",
      " 13  city mpg           11914 non-null  int64  \n",
      " 14  Popularity         11914 non-null  int64  \n",
      " 15  MSRP               11914 non-null  int64  \n",
      "dtypes: float64(3), int64(5), object(8)\n",
      "memory usage: 1.5+ MB\n"
     ]
    }
   ],
   "source": [
    "cars_data.info()"
   ]
  },
  {
   "cell_type": "code",
   "execution_count": 68,
   "id": "9ba806ce",
   "metadata": {
    "execution": {
     "iopub.execute_input": "2022-10-07T07:03:01.674838Z",
     "iopub.status.busy": "2022-10-07T07:03:01.673470Z",
     "iopub.status.idle": "2022-10-07T07:03:01.716878Z",
     "shell.execute_reply": "2022-10-07T07:03:01.715888Z"
    },
    "papermill": {
     "duration": 0.069705,
     "end_time": "2022-10-07T07:03:01.719435",
     "exception": false,
     "start_time": "2022-10-07T07:03:01.649730",
     "status": "completed"
    },
    "tags": []
   },
   "outputs": [
    {
     "data": {
      "text/html": [
       "<div>\n",
       "<style scoped>\n",
       "    .dataframe tbody tr th:only-of-type {\n",
       "        vertical-align: middle;\n",
       "    }\n",
       "\n",
       "    .dataframe tbody tr th {\n",
       "        vertical-align: top;\n",
       "    }\n",
       "\n",
       "    .dataframe thead th {\n",
       "        text-align: right;\n",
       "    }\n",
       "</style>\n",
       "<table border=\"1\" class=\"dataframe\">\n",
       "  <thead>\n",
       "    <tr style=\"text-align: right;\">\n",
       "      <th></th>\n",
       "      <th>Year</th>\n",
       "      <th>Engine HP</th>\n",
       "      <th>Engine Cylinders</th>\n",
       "      <th>Number of Doors</th>\n",
       "      <th>highway MPG</th>\n",
       "      <th>city mpg</th>\n",
       "      <th>Popularity</th>\n",
       "      <th>MSRP</th>\n",
       "    </tr>\n",
       "  </thead>\n",
       "  <tbody>\n",
       "    <tr>\n",
       "      <th>count</th>\n",
       "      <td>11914.000000</td>\n",
       "      <td>11845.00000</td>\n",
       "      <td>11884.000000</td>\n",
       "      <td>11908.000000</td>\n",
       "      <td>11914.000000</td>\n",
       "      <td>11914.000000</td>\n",
       "      <td>11914.000000</td>\n",
       "      <td>1.191400e+04</td>\n",
       "    </tr>\n",
       "    <tr>\n",
       "      <th>mean</th>\n",
       "      <td>2010.384338</td>\n",
       "      <td>249.38607</td>\n",
       "      <td>5.628829</td>\n",
       "      <td>3.436093</td>\n",
       "      <td>26.637485</td>\n",
       "      <td>19.733255</td>\n",
       "      <td>1554.911197</td>\n",
       "      <td>4.059474e+04</td>\n",
       "    </tr>\n",
       "    <tr>\n",
       "      <th>std</th>\n",
       "      <td>7.579740</td>\n",
       "      <td>109.19187</td>\n",
       "      <td>1.780559</td>\n",
       "      <td>0.881315</td>\n",
       "      <td>8.863001</td>\n",
       "      <td>8.987798</td>\n",
       "      <td>1441.855347</td>\n",
       "      <td>6.010910e+04</td>\n",
       "    </tr>\n",
       "    <tr>\n",
       "      <th>min</th>\n",
       "      <td>1990.000000</td>\n",
       "      <td>55.00000</td>\n",
       "      <td>0.000000</td>\n",
       "      <td>2.000000</td>\n",
       "      <td>12.000000</td>\n",
       "      <td>7.000000</td>\n",
       "      <td>2.000000</td>\n",
       "      <td>2.000000e+03</td>\n",
       "    </tr>\n",
       "    <tr>\n",
       "      <th>25%</th>\n",
       "      <td>2007.000000</td>\n",
       "      <td>170.00000</td>\n",
       "      <td>4.000000</td>\n",
       "      <td>2.000000</td>\n",
       "      <td>22.000000</td>\n",
       "      <td>16.000000</td>\n",
       "      <td>549.000000</td>\n",
       "      <td>2.100000e+04</td>\n",
       "    </tr>\n",
       "    <tr>\n",
       "      <th>50%</th>\n",
       "      <td>2015.000000</td>\n",
       "      <td>227.00000</td>\n",
       "      <td>6.000000</td>\n",
       "      <td>4.000000</td>\n",
       "      <td>26.000000</td>\n",
       "      <td>18.000000</td>\n",
       "      <td>1385.000000</td>\n",
       "      <td>2.999500e+04</td>\n",
       "    </tr>\n",
       "    <tr>\n",
       "      <th>75%</th>\n",
       "      <td>2016.000000</td>\n",
       "      <td>300.00000</td>\n",
       "      <td>6.000000</td>\n",
       "      <td>4.000000</td>\n",
       "      <td>30.000000</td>\n",
       "      <td>22.000000</td>\n",
       "      <td>2009.000000</td>\n",
       "      <td>4.223125e+04</td>\n",
       "    </tr>\n",
       "    <tr>\n",
       "      <th>max</th>\n",
       "      <td>2017.000000</td>\n",
       "      <td>1001.00000</td>\n",
       "      <td>16.000000</td>\n",
       "      <td>4.000000</td>\n",
       "      <td>354.000000</td>\n",
       "      <td>137.000000</td>\n",
       "      <td>5657.000000</td>\n",
       "      <td>2.065902e+06</td>\n",
       "    </tr>\n",
       "  </tbody>\n",
       "</table>\n",
       "</div>"
      ],
      "text/plain": [
       "               Year    Engine HP  Engine Cylinders  Number of Doors  \\\n",
       "count  11914.000000  11845.00000      11884.000000     11908.000000   \n",
       "mean    2010.384338    249.38607          5.628829         3.436093   \n",
       "std        7.579740    109.19187          1.780559         0.881315   \n",
       "min     1990.000000     55.00000          0.000000         2.000000   \n",
       "25%     2007.000000    170.00000          4.000000         2.000000   \n",
       "50%     2015.000000    227.00000          6.000000         4.000000   \n",
       "75%     2016.000000    300.00000          6.000000         4.000000   \n",
       "max     2017.000000   1001.00000         16.000000         4.000000   \n",
       "\n",
       "        highway MPG      city mpg    Popularity          MSRP  \n",
       "count  11914.000000  11914.000000  11914.000000  1.191400e+04  \n",
       "mean      26.637485     19.733255   1554.911197  4.059474e+04  \n",
       "std        8.863001      8.987798   1441.855347  6.010910e+04  \n",
       "min       12.000000      7.000000      2.000000  2.000000e+03  \n",
       "25%       22.000000     16.000000    549.000000  2.100000e+04  \n",
       "50%       26.000000     18.000000   1385.000000  2.999500e+04  \n",
       "75%       30.000000     22.000000   2009.000000  4.223125e+04  \n",
       "max      354.000000    137.000000   5657.000000  2.065902e+06  "
      ]
     },
     "execution_count": 68,
     "metadata": {},
     "output_type": "execute_result"
    }
   ],
   "source": [
    "cars_data.describe()"
   ]
  },
  {
   "cell_type": "markdown",
   "id": "8f28de8c",
   "metadata": {
    "papermill": {
     "duration": 0.02247,
     "end_time": "2022-10-07T07:03:01.765756",
     "exception": false,
     "start_time": "2022-10-07T07:03:01.743286",
     "status": "completed"
    },
    "tags": []
   },
   "source": [
    "**Insights**\n",
    "* ***Year***: The minimum year in dataset is 1990, average year is 2010 and maximum year is 2017.\n",
    "* ***Engine Hp***:: The minimum hp in dataset is 55, average hp is 249 and maximum hp is 1001.\n",
    "* ***Engine Cylinders***: The minimum cylinders in dataset are 0, average cylinders are 5 and maximum cylindes are 16.\n",
    "* ***Number of doors***: The minimum doors a car have are 2, on average, the number of doors are 3 and maximum doors are 4.\n",
    "* ***Highway mpg***: The minimum highway mpg in dataset is 12, average highway mpg is 26.6 and maximum highway mpg is 354.\n",
    "* ***City mpg***: The minimum city mpg in dataset is 7, average city mpg is 19.7 and maximum city mpg is 137.\n",
    "* ***Popularity***: The minimum popularity of a car in dataset is 2, average car popularity is 1554.9 and maximum car popularity is 5657.\n",
    "* ***Price***: The minimum car price in dataset is 2000, average car price is 40K and maximum car price is 2.06 million."
   ]
  },
  {
   "cell_type": "markdown",
   "id": "2a589d00",
   "metadata": {
    "papermill": {
     "duration": 0.022826,
     "end_time": "2022-10-07T07:03:01.811258",
     "exception": false,
     "start_time": "2022-10-07T07:03:01.788432",
     "status": "completed"
    },
    "tags": []
   },
   "source": [
    "# Data Cleaning"
   ]
  },
  {
   "cell_type": "code",
   "execution_count": 69,
   "id": "9f1450f1",
   "metadata": {
    "execution": {
     "iopub.execute_input": "2022-10-07T07:03:01.860704Z",
     "iopub.status.busy": "2022-10-07T07:03:01.859968Z",
     "iopub.status.idle": "2022-10-07T07:03:01.867307Z",
     "shell.execute_reply": "2022-10-07T07:03:01.866352Z"
    },
    "papermill": {
     "duration": 0.033761,
     "end_time": "2022-10-07T07:03:01.869626",
     "exception": false,
     "start_time": "2022-10-07T07:03:01.835865",
     "status": "completed"
    },
    "tags": []
   },
   "outputs": [
    {
     "data": {
      "text/plain": [
       "Index(['make', 'model', 'year', 'engine_fuel_type', 'engine_hp',\n",
       "       'engine_cylinders', 'transmission_type', 'driven_wheels',\n",
       "       'number_of_doors', 'market_category', 'vehicle_size', 'vehicle_style',\n",
       "       'highway_mpg', 'city_mpg', 'popularity', 'msrp'],\n",
       "      dtype='object')"
      ]
     },
     "execution_count": 69,
     "metadata": {},
     "output_type": "execute_result"
    }
   ],
   "source": [
    "cars_data.columns = cars_data.columns.str.lower().str.replace(\" \", \"_\")\n",
    "cars_data.columns"
   ]
  },
  {
   "cell_type": "code",
   "execution_count": 70,
   "id": "2795d4a0",
   "metadata": {},
   "outputs": [],
   "source": [
    "cars_data.rename(columns = {'engine_fuel_type' : 'fuel_type', 'engine_hp' : 'hp', 'engine_cylinders' : 'cylinders', 'transmission_type' : 'transmission', 'driven_wheels' : 'drive', 'number_of_doors' : 'doors', 'market_category' : 'market', 'vehicle_size' : 'size', 'vehicle_style' : 'style', 'msrp' : 'price'}, inplace = True)"
   ]
  },
  {
   "cell_type": "code",
   "execution_count": 71,
   "id": "5562ab55",
   "metadata": {
    "execution": {
     "iopub.execute_input": "2022-10-07T07:03:01.916922Z",
     "iopub.status.busy": "2022-10-07T07:03:01.916153Z",
     "iopub.status.idle": "2022-10-07T07:03:01.953176Z",
     "shell.execute_reply": "2022-10-07T07:03:01.952031Z"
    },
    "papermill": {
     "duration": 0.06369,
     "end_time": "2022-10-07T07:03:01.955804",
     "exception": false,
     "start_time": "2022-10-07T07:03:01.892114",
     "status": "completed"
    },
    "tags": []
   },
   "outputs": [
    {
     "name": "stdout",
     "output_type": "stream",
     "text": [
      "Number of duplicates are :  715\n"
     ]
    }
   ],
   "source": [
    "print('Number of duplicates are : ', cars_data.duplicated().sum())\n",
    "cars_data = cars_data.drop_duplicates()"
   ]
  },
  {
   "cell_type": "code",
   "execution_count": 72,
   "id": "873e4432",
   "metadata": {
    "execution": {
     "iopub.execute_input": "2022-10-07T07:03:02.003582Z",
     "iopub.status.busy": "2022-10-07T07:03:02.003000Z",
     "iopub.status.idle": "2022-10-07T07:03:02.016054Z",
     "shell.execute_reply": "2022-10-07T07:03:02.014747Z"
    },
    "papermill": {
     "duration": 0.04001,
     "end_time": "2022-10-07T07:03:02.018351",
     "exception": false,
     "start_time": "2022-10-07T07:03:01.978341",
     "status": "completed"
    },
    "tags": []
   },
   "outputs": [
    {
     "name": "stdout",
     "output_type": "stream",
     "text": [
      "Number of missing values in each columns are below : \n",
      "make               0\n",
      "model              0\n",
      "year               0\n",
      "fuel_type          3\n",
      "hp                69\n",
      "cylinders         30\n",
      "transmission       0\n",
      "drive              0\n",
      "doors              6\n",
      "market          3376\n",
      "size               0\n",
      "style              0\n",
      "highway_mpg        0\n",
      "city_mpg           0\n",
      "popularity         0\n",
      "price              0\n",
      "dtype: int64\n"
     ]
    }
   ],
   "source": [
    "print('Number of missing values in each columns are below : ')\n",
    "print(cars_data.isnull().sum())"
   ]
  },
  {
   "cell_type": "markdown",
   "id": "08de5e7a",
   "metadata": {
    "papermill": {
     "duration": 0.023041,
     "end_time": "2022-10-07T07:03:02.064675",
     "exception": false,
     "start_time": "2022-10-07T07:03:02.041634",
     "status": "completed"
    },
    "tags": []
   },
   "source": [
    "> Let's drop the market column as it contains too much of the null values and also this feature doesn't have high importance regarding target feature which is price"
   ]
  },
  {
   "cell_type": "code",
   "execution_count": 73,
   "id": "dea56968",
   "metadata": {
    "execution": {
     "iopub.execute_input": "2022-10-07T07:03:02.112434Z",
     "iopub.status.busy": "2022-10-07T07:03:02.111320Z",
     "iopub.status.idle": "2022-10-07T07:03:02.120096Z",
     "shell.execute_reply": "2022-10-07T07:03:02.118735Z"
    },
    "papermill": {
     "duration": 0.035569,
     "end_time": "2022-10-07T07:03:02.122862",
     "exception": false,
     "start_time": "2022-10-07T07:03:02.087293",
     "status": "completed"
    },
    "tags": []
   },
   "outputs": [],
   "source": [
    "cars_data.drop('market', axis = 1, inplace = True)   #not executing multiple times \n"
   ]
  },
  {
   "cell_type": "markdown",
   "id": "887afbca",
   "metadata": {
    "papermill": {
     "duration": 0.0221,
     "end_time": "2022-10-07T07:03:02.167588",
     "exception": false,
     "start_time": "2022-10-07T07:03:02.145488",
     "status": "completed"
    },
    "tags": []
   },
   "source": [
    "> Now i'll check what dataset columns have null values"
   ]
  },
  {
   "cell_type": "code",
   "execution_count": 27,
   "id": "530ae878",
   "metadata": {
    "execution": {
     "iopub.execute_input": "2022-10-07T07:03:02.215922Z",
     "iopub.status.busy": "2022-10-07T07:03:02.215130Z",
     "iopub.status.idle": "2022-10-07T07:03:02.248295Z",
     "shell.execute_reply": "2022-10-07T07:03:02.247101Z"
    },
    "papermill": {
     "duration": 0.06076,
     "end_time": "2022-10-07T07:03:02.250998",
     "exception": false,
     "start_time": "2022-10-07T07:03:02.190238",
     "status": "completed"
    },
    "tags": []
   },
   "outputs": [
    {
     "data": {
      "text/html": [
       "<div>\n",
       "<style scoped>\n",
       "    .dataframe tbody tr th:only-of-type {\n",
       "        vertical-align: middle;\n",
       "    }\n",
       "\n",
       "    .dataframe tbody tr th {\n",
       "        vertical-align: top;\n",
       "    }\n",
       "\n",
       "    .dataframe thead th {\n",
       "        text-align: right;\n",
       "    }\n",
       "</style>\n",
       "<table border=\"1\" class=\"dataframe\">\n",
       "  <thead>\n",
       "    <tr style=\"text-align: right;\">\n",
       "      <th></th>\n",
       "      <th>make</th>\n",
       "      <th>model</th>\n",
       "      <th>year</th>\n",
       "      <th>fuel_type</th>\n",
       "      <th>hp</th>\n",
       "      <th>cylinders</th>\n",
       "      <th>transmission</th>\n",
       "      <th>drive</th>\n",
       "      <th>doors</th>\n",
       "      <th>market</th>\n",
       "      <th>size</th>\n",
       "      <th>style</th>\n",
       "      <th>highway_mpg</th>\n",
       "      <th>city_mpg</th>\n",
       "      <th>popularity</th>\n",
       "      <th>price</th>\n",
       "    </tr>\n",
       "  </thead>\n",
       "  <tbody>\n",
       "    <tr>\n",
       "      <th>87</th>\n",
       "      <td>Nissan</td>\n",
       "      <td>200SX</td>\n",
       "      <td>1996</td>\n",
       "      <td>regular unleaded</td>\n",
       "      <td>115.0</td>\n",
       "      <td>4.0</td>\n",
       "      <td>MANUAL</td>\n",
       "      <td>front wheel drive</td>\n",
       "      <td>2.0</td>\n",
       "      <td>NaN</td>\n",
       "      <td>Compact</td>\n",
       "      <td>Coupe</td>\n",
       "      <td>36</td>\n",
       "      <td>26</td>\n",
       "      <td>2009</td>\n",
       "      <td>2000</td>\n",
       "    </tr>\n",
       "    <tr>\n",
       "      <th>91</th>\n",
       "      <td>Nissan</td>\n",
       "      <td>200SX</td>\n",
       "      <td>1997</td>\n",
       "      <td>regular unleaded</td>\n",
       "      <td>115.0</td>\n",
       "      <td>4.0</td>\n",
       "      <td>MANUAL</td>\n",
       "      <td>front wheel drive</td>\n",
       "      <td>2.0</td>\n",
       "      <td>NaN</td>\n",
       "      <td>Compact</td>\n",
       "      <td>Coupe</td>\n",
       "      <td>35</td>\n",
       "      <td>25</td>\n",
       "      <td>2009</td>\n",
       "      <td>2000</td>\n",
       "    </tr>\n",
       "    <tr>\n",
       "      <th>93</th>\n",
       "      <td>Nissan</td>\n",
       "      <td>200SX</td>\n",
       "      <td>1998</td>\n",
       "      <td>regular unleaded</td>\n",
       "      <td>115.0</td>\n",
       "      <td>4.0</td>\n",
       "      <td>MANUAL</td>\n",
       "      <td>front wheel drive</td>\n",
       "      <td>2.0</td>\n",
       "      <td>NaN</td>\n",
       "      <td>Compact</td>\n",
       "      <td>Coupe</td>\n",
       "      <td>35</td>\n",
       "      <td>25</td>\n",
       "      <td>2009</td>\n",
       "      <td>2000</td>\n",
       "    </tr>\n",
       "    <tr>\n",
       "      <th>203</th>\n",
       "      <td>Chrysler</td>\n",
       "      <td>300</td>\n",
       "      <td>2015</td>\n",
       "      <td>regular unleaded</td>\n",
       "      <td>300.0</td>\n",
       "      <td>6.0</td>\n",
       "      <td>AUTOMATIC</td>\n",
       "      <td>all wheel drive</td>\n",
       "      <td>4.0</td>\n",
       "      <td>NaN</td>\n",
       "      <td>Large</td>\n",
       "      <td>Sedan</td>\n",
       "      <td>27</td>\n",
       "      <td>18</td>\n",
       "      <td>1013</td>\n",
       "      <td>37570</td>\n",
       "    </tr>\n",
       "    <tr>\n",
       "      <th>204</th>\n",
       "      <td>Chrysler</td>\n",
       "      <td>300</td>\n",
       "      <td>2015</td>\n",
       "      <td>regular unleaded</td>\n",
       "      <td>292.0</td>\n",
       "      <td>6.0</td>\n",
       "      <td>AUTOMATIC</td>\n",
       "      <td>rear wheel drive</td>\n",
       "      <td>4.0</td>\n",
       "      <td>NaN</td>\n",
       "      <td>Large</td>\n",
       "      <td>Sedan</td>\n",
       "      <td>31</td>\n",
       "      <td>19</td>\n",
       "      <td>1013</td>\n",
       "      <td>31695</td>\n",
       "    </tr>\n",
       "    <tr>\n",
       "      <th>...</th>\n",
       "      <td>...</td>\n",
       "      <td>...</td>\n",
       "      <td>...</td>\n",
       "      <td>...</td>\n",
       "      <td>...</td>\n",
       "      <td>...</td>\n",
       "      <td>...</td>\n",
       "      <td>...</td>\n",
       "      <td>...</td>\n",
       "      <td>...</td>\n",
       "      <td>...</td>\n",
       "      <td>...</td>\n",
       "      <td>...</td>\n",
       "      <td>...</td>\n",
       "      <td>...</td>\n",
       "      <td>...</td>\n",
       "    </tr>\n",
       "    <tr>\n",
       "      <th>11794</th>\n",
       "      <td>Subaru</td>\n",
       "      <td>XT</td>\n",
       "      <td>1991</td>\n",
       "      <td>regular unleaded</td>\n",
       "      <td>145.0</td>\n",
       "      <td>6.0</td>\n",
       "      <td>MANUAL</td>\n",
       "      <td>all wheel drive</td>\n",
       "      <td>2.0</td>\n",
       "      <td>NaN</td>\n",
       "      <td>Compact</td>\n",
       "      <td>Coupe</td>\n",
       "      <td>23</td>\n",
       "      <td>16</td>\n",
       "      <td>640</td>\n",
       "      <td>2000</td>\n",
       "    </tr>\n",
       "    <tr>\n",
       "      <th>11809</th>\n",
       "      <td>Toyota</td>\n",
       "      <td>Yaris iA</td>\n",
       "      <td>2017</td>\n",
       "      <td>regular unleaded</td>\n",
       "      <td>106.0</td>\n",
       "      <td>4.0</td>\n",
       "      <td>MANUAL</td>\n",
       "      <td>front wheel drive</td>\n",
       "      <td>4.0</td>\n",
       "      <td>NaN</td>\n",
       "      <td>Compact</td>\n",
       "      <td>Sedan</td>\n",
       "      <td>39</td>\n",
       "      <td>30</td>\n",
       "      <td>2031</td>\n",
       "      <td>15950</td>\n",
       "    </tr>\n",
       "    <tr>\n",
       "      <th>11810</th>\n",
       "      <td>Toyota</td>\n",
       "      <td>Yaris iA</td>\n",
       "      <td>2017</td>\n",
       "      <td>regular unleaded</td>\n",
       "      <td>106.0</td>\n",
       "      <td>4.0</td>\n",
       "      <td>AUTOMATIC</td>\n",
       "      <td>front wheel drive</td>\n",
       "      <td>4.0</td>\n",
       "      <td>NaN</td>\n",
       "      <td>Compact</td>\n",
       "      <td>Sedan</td>\n",
       "      <td>40</td>\n",
       "      <td>32</td>\n",
       "      <td>2031</td>\n",
       "      <td>17050</td>\n",
       "    </tr>\n",
       "    <tr>\n",
       "      <th>11867</th>\n",
       "      <td>GMC</td>\n",
       "      <td>Yukon</td>\n",
       "      <td>2015</td>\n",
       "      <td>premium unleaded (recommended)</td>\n",
       "      <td>420.0</td>\n",
       "      <td>8.0</td>\n",
       "      <td>AUTOMATIC</td>\n",
       "      <td>rear wheel drive</td>\n",
       "      <td>4.0</td>\n",
       "      <td>NaN</td>\n",
       "      <td>Large</td>\n",
       "      <td>4dr SUV</td>\n",
       "      <td>21</td>\n",
       "      <td>15</td>\n",
       "      <td>549</td>\n",
       "      <td>64520</td>\n",
       "    </tr>\n",
       "    <tr>\n",
       "      <th>11868</th>\n",
       "      <td>GMC</td>\n",
       "      <td>Yukon</td>\n",
       "      <td>2015</td>\n",
       "      <td>premium unleaded (recommended)</td>\n",
       "      <td>420.0</td>\n",
       "      <td>8.0</td>\n",
       "      <td>AUTOMATIC</td>\n",
       "      <td>four wheel drive</td>\n",
       "      <td>4.0</td>\n",
       "      <td>NaN</td>\n",
       "      <td>Large</td>\n",
       "      <td>4dr SUV</td>\n",
       "      <td>21</td>\n",
       "      <td>14</td>\n",
       "      <td>549</td>\n",
       "      <td>67520</td>\n",
       "    </tr>\n",
       "  </tbody>\n",
       "</table>\n",
       "<p>3464 rows × 16 columns</p>\n",
       "</div>"
      ],
      "text/plain": [
       "           make     model  year                       fuel_type     hp  \\\n",
       "87       Nissan     200SX  1996                regular unleaded  115.0   \n",
       "91       Nissan     200SX  1997                regular unleaded  115.0   \n",
       "93       Nissan     200SX  1998                regular unleaded  115.0   \n",
       "203    Chrysler       300  2015                regular unleaded  300.0   \n",
       "204    Chrysler       300  2015                regular unleaded  292.0   \n",
       "...         ...       ...   ...                             ...    ...   \n",
       "11794    Subaru        XT  1991                regular unleaded  145.0   \n",
       "11809    Toyota  Yaris iA  2017                regular unleaded  106.0   \n",
       "11810    Toyota  Yaris iA  2017                regular unleaded  106.0   \n",
       "11867       GMC     Yukon  2015  premium unleaded (recommended)  420.0   \n",
       "11868       GMC     Yukon  2015  premium unleaded (recommended)  420.0   \n",
       "\n",
       "       cylinders transmission              drive  doors market     size  \\\n",
       "87           4.0       MANUAL  front wheel drive    2.0    NaN  Compact   \n",
       "91           4.0       MANUAL  front wheel drive    2.0    NaN  Compact   \n",
       "93           4.0       MANUAL  front wheel drive    2.0    NaN  Compact   \n",
       "203          6.0    AUTOMATIC    all wheel drive    4.0    NaN    Large   \n",
       "204          6.0    AUTOMATIC   rear wheel drive    4.0    NaN    Large   \n",
       "...          ...          ...                ...    ...    ...      ...   \n",
       "11794        6.0       MANUAL    all wheel drive    2.0    NaN  Compact   \n",
       "11809        4.0       MANUAL  front wheel drive    4.0    NaN  Compact   \n",
       "11810        4.0    AUTOMATIC  front wheel drive    4.0    NaN  Compact   \n",
       "11867        8.0    AUTOMATIC   rear wheel drive    4.0    NaN    Large   \n",
       "11868        8.0    AUTOMATIC   four wheel drive    4.0    NaN    Large   \n",
       "\n",
       "         style  highway_mpg  city_mpg  popularity  price  \n",
       "87       Coupe           36        26        2009   2000  \n",
       "91       Coupe           35        25        2009   2000  \n",
       "93       Coupe           35        25        2009   2000  \n",
       "203      Sedan           27        18        1013  37570  \n",
       "204      Sedan           31        19        1013  31695  \n",
       "...        ...          ...       ...         ...    ...  \n",
       "11794    Coupe           23        16         640   2000  \n",
       "11809    Sedan           39        30        2031  15950  \n",
       "11810    Sedan           40        32        2031  17050  \n",
       "11867  4dr SUV           21        15         549  64520  \n",
       "11868  4dr SUV           21        14         549  67520  \n",
       "\n",
       "[3464 rows x 16 columns]"
      ]
     },
     "execution_count": 27,
     "metadata": {},
     "output_type": "execute_result"
    }
   ],
   "source": [
    "null_values = cars_data[cars_data.isnull().any(axis = 1)]\n",
    "null_values"
   ]
  },
  {
   "cell_type": "markdown",
   "id": "cf1d8bf0",
   "metadata": {
    "papermill": {
     "duration": 0.022714,
     "end_time": "2022-10-07T07:03:02.297610",
     "exception": false,
     "start_time": "2022-10-07T07:03:02.274896",
     "status": "completed"
    },
    "tags": []
   },
   "source": [
    "> Fuel type, Hp, Cylinders and also doors have null values.\n",
    "> * I'll fill the null values in fuel type with the mode as this columns is a categorical one.\n",
    "> * Hp will be filled by 0 as the cars having null values are electric cars. So they don't have Hp in general\n",
    "> * We know that electric cars doesn't have any cylinders so the null values will be again filled with 0.\n",
    "> * It's fine to fill the null values in doors with mean as it's a numerical column."
   ]
  },
  {
   "cell_type": "code",
   "execution_count": 74,
   "id": "d4ad4c13",
   "metadata": {
    "execution": {
     "iopub.execute_input": "2022-10-07T07:03:02.346599Z",
     "iopub.status.busy": "2022-10-07T07:03:02.346132Z",
     "iopub.status.idle": "2022-10-07T07:03:02.357050Z",
     "shell.execute_reply": "2022-10-07T07:03:02.355854Z"
    },
    "papermill": {
     "duration": 0.03881,
     "end_time": "2022-10-07T07:03:02.359520",
     "exception": false,
     "start_time": "2022-10-07T07:03:02.320710",
     "status": "completed"
    },
    "tags": []
   },
   "outputs": [],
   "source": [
    "cars_data['fuel_type'] = cars_data['fuel_type'].fillna('regular unleaded')\n",
    "\n",
    "cars_data['hp'] = cars_data['hp'].fillna(0)\n",
    "\n",
    "cars_data['cylinders'] = cars_data['cylinders'].fillna(0)\n",
    "\n",
    "cars_data['doors'] = cars_data['doors'].fillna(cars_data['doors'].mean())\n"
   ]
  },
  {
   "cell_type": "code",
   "execution_count": 79,
   "id": "d9f42bff",
   "metadata": {},
   "outputs": [
    {
     "data": {
      "text/html": [
       "<div>\n",
       "<style scoped>\n",
       "    .dataframe tbody tr th:only-of-type {\n",
       "        vertical-align: middle;\n",
       "    }\n",
       "\n",
       "    .dataframe tbody tr th {\n",
       "        vertical-align: top;\n",
       "    }\n",
       "\n",
       "    .dataframe thead th {\n",
       "        text-align: right;\n",
       "    }\n",
       "</style>\n",
       "<table border=\"1\" class=\"dataframe\">\n",
       "  <thead>\n",
       "    <tr style=\"text-align: right;\">\n",
       "      <th></th>\n",
       "      <th>make</th>\n",
       "      <th>model</th>\n",
       "      <th>year</th>\n",
       "      <th>fuel_type</th>\n",
       "      <th>hp</th>\n",
       "      <th>cylinders</th>\n",
       "      <th>transmission</th>\n",
       "      <th>drive</th>\n",
       "      <th>doors</th>\n",
       "      <th>size</th>\n",
       "      <th>style</th>\n",
       "      <th>highway_mpg</th>\n",
       "      <th>city_mpg</th>\n",
       "      <th>popularity</th>\n",
       "      <th>price</th>\n",
       "    </tr>\n",
       "  </thead>\n",
       "  <tbody>\n",
       "    <tr>\n",
       "      <th>0</th>\n",
       "      <td>BMW</td>\n",
       "      <td>1 Series M</td>\n",
       "      <td>2011</td>\n",
       "      <td>premium unleaded (required)</td>\n",
       "      <td>335.0</td>\n",
       "      <td>6.0</td>\n",
       "      <td>MANUAL</td>\n",
       "      <td>rear wheel drive</td>\n",
       "      <td>2.0</td>\n",
       "      <td>Compact</td>\n",
       "      <td>Coupe</td>\n",
       "      <td>26</td>\n",
       "      <td>19</td>\n",
       "      <td>3916</td>\n",
       "      <td>46135</td>\n",
       "    </tr>\n",
       "    <tr>\n",
       "      <th>1</th>\n",
       "      <td>BMW</td>\n",
       "      <td>1 Series</td>\n",
       "      <td>2011</td>\n",
       "      <td>premium unleaded (required)</td>\n",
       "      <td>300.0</td>\n",
       "      <td>6.0</td>\n",
       "      <td>MANUAL</td>\n",
       "      <td>rear wheel drive</td>\n",
       "      <td>2.0</td>\n",
       "      <td>Compact</td>\n",
       "      <td>Convertible</td>\n",
       "      <td>28</td>\n",
       "      <td>19</td>\n",
       "      <td>3916</td>\n",
       "      <td>40650</td>\n",
       "    </tr>\n",
       "    <tr>\n",
       "      <th>2</th>\n",
       "      <td>BMW</td>\n",
       "      <td>1 Series</td>\n",
       "      <td>2011</td>\n",
       "      <td>premium unleaded (required)</td>\n",
       "      <td>300.0</td>\n",
       "      <td>6.0</td>\n",
       "      <td>MANUAL</td>\n",
       "      <td>rear wheel drive</td>\n",
       "      <td>2.0</td>\n",
       "      <td>Compact</td>\n",
       "      <td>Coupe</td>\n",
       "      <td>28</td>\n",
       "      <td>20</td>\n",
       "      <td>3916</td>\n",
       "      <td>36350</td>\n",
       "    </tr>\n",
       "    <tr>\n",
       "      <th>3</th>\n",
       "      <td>BMW</td>\n",
       "      <td>1 Series</td>\n",
       "      <td>2011</td>\n",
       "      <td>premium unleaded (required)</td>\n",
       "      <td>230.0</td>\n",
       "      <td>6.0</td>\n",
       "      <td>MANUAL</td>\n",
       "      <td>rear wheel drive</td>\n",
       "      <td>2.0</td>\n",
       "      <td>Compact</td>\n",
       "      <td>Coupe</td>\n",
       "      <td>28</td>\n",
       "      <td>18</td>\n",
       "      <td>3916</td>\n",
       "      <td>29450</td>\n",
       "    </tr>\n",
       "    <tr>\n",
       "      <th>4</th>\n",
       "      <td>BMW</td>\n",
       "      <td>1 Series</td>\n",
       "      <td>2011</td>\n",
       "      <td>premium unleaded (required)</td>\n",
       "      <td>230.0</td>\n",
       "      <td>6.0</td>\n",
       "      <td>MANUAL</td>\n",
       "      <td>rear wheel drive</td>\n",
       "      <td>2.0</td>\n",
       "      <td>Compact</td>\n",
       "      <td>Convertible</td>\n",
       "      <td>28</td>\n",
       "      <td>18</td>\n",
       "      <td>3916</td>\n",
       "      <td>34500</td>\n",
       "    </tr>\n",
       "  </tbody>\n",
       "</table>\n",
       "</div>"
      ],
      "text/plain": [
       "  make       model  year                    fuel_type     hp  cylinders  \\\n",
       "0  BMW  1 Series M  2011  premium unleaded (required)  335.0        6.0   \n",
       "1  BMW    1 Series  2011  premium unleaded (required)  300.0        6.0   \n",
       "2  BMW    1 Series  2011  premium unleaded (required)  300.0        6.0   \n",
       "3  BMW    1 Series  2011  premium unleaded (required)  230.0        6.0   \n",
       "4  BMW    1 Series  2011  premium unleaded (required)  230.0        6.0   \n",
       "\n",
       "  transmission             drive  doors     size        style  highway_mpg  \\\n",
       "0       MANUAL  rear wheel drive    2.0  Compact        Coupe           26   \n",
       "1       MANUAL  rear wheel drive    2.0  Compact  Convertible           28   \n",
       "2       MANUAL  rear wheel drive    2.0  Compact        Coupe           28   \n",
       "3       MANUAL  rear wheel drive    2.0  Compact        Coupe           28   \n",
       "4       MANUAL  rear wheel drive    2.0  Compact  Convertible           28   \n",
       "\n",
       "   city_mpg  popularity  price  \n",
       "0        19        3916  46135  \n",
       "1        19        3916  40650  \n",
       "2        20        3916  36350  \n",
       "3        18        3916  29450  \n",
       "4        18        3916  34500  "
      ]
     },
     "execution_count": 79,
     "metadata": {},
     "output_type": "execute_result"
    }
   ],
   "source": [
    "cars_data.head(5)"
   ]
  },
  {
   "cell_type": "markdown",
   "id": "1a80fa92",
   "metadata": {
    "papermill": {
     "duration": 0.023288,
     "end_time": "2022-10-07T07:03:02.406724",
     "exception": false,
     "start_time": "2022-10-07T07:03:02.383436",
     "status": "completed"
    },
    "tags": []
   },
   "source": [
    "> Now let's seperate the numerical and categorical columns for using later."
   ]
  },
  {
   "cell_type": "code",
   "execution_count": 82,
   "id": "4e8d3214",
   "metadata": {
    "execution": {
     "iopub.execute_input": "2022-10-07T07:03:02.454741Z",
     "iopub.status.busy": "2022-10-07T07:03:02.454294Z",
     "iopub.status.idle": "2022-10-07T07:03:02.463122Z",
     "shell.execute_reply": "2022-10-07T07:03:02.462136Z"
    },
    "papermill": {
     "duration": 0.03569,
     "end_time": "2022-10-07T07:03:02.465421",
     "exception": false,
     "start_time": "2022-10-07T07:03:02.429731",
     "status": "completed"
    },
    "tags": []
   },
   "outputs": [
    {
     "data": {
      "text/html": [
       "<div>\n",
       "<style scoped>\n",
       "    .dataframe tbody tr th:only-of-type {\n",
       "        vertical-align: middle;\n",
       "    }\n",
       "\n",
       "    .dataframe tbody tr th {\n",
       "        vertical-align: top;\n",
       "    }\n",
       "\n",
       "    .dataframe thead th {\n",
       "        text-align: right;\n",
       "    }\n",
       "</style>\n",
       "<table border=\"1\" class=\"dataframe\">\n",
       "  <thead>\n",
       "    <tr style=\"text-align: right;\">\n",
       "      <th></th>\n",
       "      <th>year</th>\n",
       "      <th>hp</th>\n",
       "      <th>cylinders</th>\n",
       "      <th>doors</th>\n",
       "      <th>highway_mpg</th>\n",
       "      <th>city_mpg</th>\n",
       "      <th>popularity</th>\n",
       "      <th>price</th>\n",
       "    </tr>\n",
       "  </thead>\n",
       "  <tbody>\n",
       "    <tr>\n",
       "      <th>0</th>\n",
       "      <td>2011</td>\n",
       "      <td>335.0</td>\n",
       "      <td>6.0</td>\n",
       "      <td>2.0</td>\n",
       "      <td>26</td>\n",
       "      <td>19</td>\n",
       "      <td>3916</td>\n",
       "      <td>46135</td>\n",
       "    </tr>\n",
       "    <tr>\n",
       "      <th>1</th>\n",
       "      <td>2011</td>\n",
       "      <td>300.0</td>\n",
       "      <td>6.0</td>\n",
       "      <td>2.0</td>\n",
       "      <td>28</td>\n",
       "      <td>19</td>\n",
       "      <td>3916</td>\n",
       "      <td>40650</td>\n",
       "    </tr>\n",
       "    <tr>\n",
       "      <th>2</th>\n",
       "      <td>2011</td>\n",
       "      <td>300.0</td>\n",
       "      <td>6.0</td>\n",
       "      <td>2.0</td>\n",
       "      <td>28</td>\n",
       "      <td>20</td>\n",
       "      <td>3916</td>\n",
       "      <td>36350</td>\n",
       "    </tr>\n",
       "    <tr>\n",
       "      <th>3</th>\n",
       "      <td>2011</td>\n",
       "      <td>230.0</td>\n",
       "      <td>6.0</td>\n",
       "      <td>2.0</td>\n",
       "      <td>28</td>\n",
       "      <td>18</td>\n",
       "      <td>3916</td>\n",
       "      <td>29450</td>\n",
       "    </tr>\n",
       "    <tr>\n",
       "      <th>4</th>\n",
       "      <td>2011</td>\n",
       "      <td>230.0</td>\n",
       "      <td>6.0</td>\n",
       "      <td>2.0</td>\n",
       "      <td>28</td>\n",
       "      <td>18</td>\n",
       "      <td>3916</td>\n",
       "      <td>34500</td>\n",
       "    </tr>\n",
       "    <tr>\n",
       "      <th>...</th>\n",
       "      <td>...</td>\n",
       "      <td>...</td>\n",
       "      <td>...</td>\n",
       "      <td>...</td>\n",
       "      <td>...</td>\n",
       "      <td>...</td>\n",
       "      <td>...</td>\n",
       "      <td>...</td>\n",
       "    </tr>\n",
       "    <tr>\n",
       "      <th>11909</th>\n",
       "      <td>2012</td>\n",
       "      <td>300.0</td>\n",
       "      <td>6.0</td>\n",
       "      <td>4.0</td>\n",
       "      <td>23</td>\n",
       "      <td>16</td>\n",
       "      <td>204</td>\n",
       "      <td>46120</td>\n",
       "    </tr>\n",
       "    <tr>\n",
       "      <th>11910</th>\n",
       "      <td>2012</td>\n",
       "      <td>300.0</td>\n",
       "      <td>6.0</td>\n",
       "      <td>4.0</td>\n",
       "      <td>23</td>\n",
       "      <td>16</td>\n",
       "      <td>204</td>\n",
       "      <td>56670</td>\n",
       "    </tr>\n",
       "    <tr>\n",
       "      <th>11911</th>\n",
       "      <td>2012</td>\n",
       "      <td>300.0</td>\n",
       "      <td>6.0</td>\n",
       "      <td>4.0</td>\n",
       "      <td>23</td>\n",
       "      <td>16</td>\n",
       "      <td>204</td>\n",
       "      <td>50620</td>\n",
       "    </tr>\n",
       "    <tr>\n",
       "      <th>11912</th>\n",
       "      <td>2013</td>\n",
       "      <td>300.0</td>\n",
       "      <td>6.0</td>\n",
       "      <td>4.0</td>\n",
       "      <td>23</td>\n",
       "      <td>16</td>\n",
       "      <td>204</td>\n",
       "      <td>50920</td>\n",
       "    </tr>\n",
       "    <tr>\n",
       "      <th>11913</th>\n",
       "      <td>2006</td>\n",
       "      <td>221.0</td>\n",
       "      <td>6.0</td>\n",
       "      <td>4.0</td>\n",
       "      <td>26</td>\n",
       "      <td>17</td>\n",
       "      <td>61</td>\n",
       "      <td>28995</td>\n",
       "    </tr>\n",
       "  </tbody>\n",
       "</table>\n",
       "<p>11199 rows × 8 columns</p>\n",
       "</div>"
      ],
      "text/plain": [
       "       year     hp  cylinders  doors  highway_mpg  city_mpg  popularity  price\n",
       "0      2011  335.0        6.0    2.0           26        19        3916  46135\n",
       "1      2011  300.0        6.0    2.0           28        19        3916  40650\n",
       "2      2011  300.0        6.0    2.0           28        20        3916  36350\n",
       "3      2011  230.0        6.0    2.0           28        18        3916  29450\n",
       "4      2011  230.0        6.0    2.0           28        18        3916  34500\n",
       "...     ...    ...        ...    ...          ...       ...         ...    ...\n",
       "11909  2012  300.0        6.0    4.0           23        16         204  46120\n",
       "11910  2012  300.0        6.0    4.0           23        16         204  56670\n",
       "11911  2012  300.0        6.0    4.0           23        16         204  50620\n",
       "11912  2013  300.0        6.0    4.0           23        16         204  50920\n",
       "11913  2006  221.0        6.0    4.0           26        17          61  28995\n",
       "\n",
       "[11199 rows x 8 columns]"
      ]
     },
     "execution_count": 82,
     "metadata": {},
     "output_type": "execute_result"
    }
   ],
   "source": [
    "num_col = cars_data.select_dtypes(include = [np.number])\n",
    "num_col"
   ]
  },
  {
   "cell_type": "code",
   "execution_count": 83,
   "id": "9938fbbd",
   "metadata": {},
   "outputs": [
    {
     "data": {
      "text/html": [
       "<div>\n",
       "<style scoped>\n",
       "    .dataframe tbody tr th:only-of-type {\n",
       "        vertical-align: middle;\n",
       "    }\n",
       "\n",
       "    .dataframe tbody tr th {\n",
       "        vertical-align: top;\n",
       "    }\n",
       "\n",
       "    .dataframe thead th {\n",
       "        text-align: right;\n",
       "    }\n",
       "</style>\n",
       "<table border=\"1\" class=\"dataframe\">\n",
       "  <thead>\n",
       "    <tr style=\"text-align: right;\">\n",
       "      <th></th>\n",
       "      <th>make</th>\n",
       "      <th>model</th>\n",
       "      <th>fuel_type</th>\n",
       "      <th>transmission</th>\n",
       "      <th>drive</th>\n",
       "      <th>size</th>\n",
       "      <th>style</th>\n",
       "    </tr>\n",
       "  </thead>\n",
       "  <tbody>\n",
       "    <tr>\n",
       "      <th>0</th>\n",
       "      <td>BMW</td>\n",
       "      <td>1 Series M</td>\n",
       "      <td>premium unleaded (required)</td>\n",
       "      <td>MANUAL</td>\n",
       "      <td>rear wheel drive</td>\n",
       "      <td>Compact</td>\n",
       "      <td>Coupe</td>\n",
       "    </tr>\n",
       "    <tr>\n",
       "      <th>1</th>\n",
       "      <td>BMW</td>\n",
       "      <td>1 Series</td>\n",
       "      <td>premium unleaded (required)</td>\n",
       "      <td>MANUAL</td>\n",
       "      <td>rear wheel drive</td>\n",
       "      <td>Compact</td>\n",
       "      <td>Convertible</td>\n",
       "    </tr>\n",
       "    <tr>\n",
       "      <th>2</th>\n",
       "      <td>BMW</td>\n",
       "      <td>1 Series</td>\n",
       "      <td>premium unleaded (required)</td>\n",
       "      <td>MANUAL</td>\n",
       "      <td>rear wheel drive</td>\n",
       "      <td>Compact</td>\n",
       "      <td>Coupe</td>\n",
       "    </tr>\n",
       "    <tr>\n",
       "      <th>3</th>\n",
       "      <td>BMW</td>\n",
       "      <td>1 Series</td>\n",
       "      <td>premium unleaded (required)</td>\n",
       "      <td>MANUAL</td>\n",
       "      <td>rear wheel drive</td>\n",
       "      <td>Compact</td>\n",
       "      <td>Coupe</td>\n",
       "    </tr>\n",
       "    <tr>\n",
       "      <th>4</th>\n",
       "      <td>BMW</td>\n",
       "      <td>1 Series</td>\n",
       "      <td>premium unleaded (required)</td>\n",
       "      <td>MANUAL</td>\n",
       "      <td>rear wheel drive</td>\n",
       "      <td>Compact</td>\n",
       "      <td>Convertible</td>\n",
       "    </tr>\n",
       "    <tr>\n",
       "      <th>...</th>\n",
       "      <td>...</td>\n",
       "      <td>...</td>\n",
       "      <td>...</td>\n",
       "      <td>...</td>\n",
       "      <td>...</td>\n",
       "      <td>...</td>\n",
       "      <td>...</td>\n",
       "    </tr>\n",
       "    <tr>\n",
       "      <th>11909</th>\n",
       "      <td>Acura</td>\n",
       "      <td>ZDX</td>\n",
       "      <td>premium unleaded (required)</td>\n",
       "      <td>AUTOMATIC</td>\n",
       "      <td>all wheel drive</td>\n",
       "      <td>Midsize</td>\n",
       "      <td>4dr Hatchback</td>\n",
       "    </tr>\n",
       "    <tr>\n",
       "      <th>11910</th>\n",
       "      <td>Acura</td>\n",
       "      <td>ZDX</td>\n",
       "      <td>premium unleaded (required)</td>\n",
       "      <td>AUTOMATIC</td>\n",
       "      <td>all wheel drive</td>\n",
       "      <td>Midsize</td>\n",
       "      <td>4dr Hatchback</td>\n",
       "    </tr>\n",
       "    <tr>\n",
       "      <th>11911</th>\n",
       "      <td>Acura</td>\n",
       "      <td>ZDX</td>\n",
       "      <td>premium unleaded (required)</td>\n",
       "      <td>AUTOMATIC</td>\n",
       "      <td>all wheel drive</td>\n",
       "      <td>Midsize</td>\n",
       "      <td>4dr Hatchback</td>\n",
       "    </tr>\n",
       "    <tr>\n",
       "      <th>11912</th>\n",
       "      <td>Acura</td>\n",
       "      <td>ZDX</td>\n",
       "      <td>premium unleaded (recommended)</td>\n",
       "      <td>AUTOMATIC</td>\n",
       "      <td>all wheel drive</td>\n",
       "      <td>Midsize</td>\n",
       "      <td>4dr Hatchback</td>\n",
       "    </tr>\n",
       "    <tr>\n",
       "      <th>11913</th>\n",
       "      <td>Lincoln</td>\n",
       "      <td>Zephyr</td>\n",
       "      <td>regular unleaded</td>\n",
       "      <td>AUTOMATIC</td>\n",
       "      <td>front wheel drive</td>\n",
       "      <td>Midsize</td>\n",
       "      <td>Sedan</td>\n",
       "    </tr>\n",
       "  </tbody>\n",
       "</table>\n",
       "<p>11199 rows × 7 columns</p>\n",
       "</div>"
      ],
      "text/plain": [
       "          make       model                       fuel_type transmission  \\\n",
       "0          BMW  1 Series M     premium unleaded (required)       MANUAL   \n",
       "1          BMW    1 Series     premium unleaded (required)       MANUAL   \n",
       "2          BMW    1 Series     premium unleaded (required)       MANUAL   \n",
       "3          BMW    1 Series     premium unleaded (required)       MANUAL   \n",
       "4          BMW    1 Series     premium unleaded (required)       MANUAL   \n",
       "...        ...         ...                             ...          ...   \n",
       "11909    Acura         ZDX     premium unleaded (required)    AUTOMATIC   \n",
       "11910    Acura         ZDX     premium unleaded (required)    AUTOMATIC   \n",
       "11911    Acura         ZDX     premium unleaded (required)    AUTOMATIC   \n",
       "11912    Acura         ZDX  premium unleaded (recommended)    AUTOMATIC   \n",
       "11913  Lincoln      Zephyr                regular unleaded    AUTOMATIC   \n",
       "\n",
       "                   drive     size          style  \n",
       "0       rear wheel drive  Compact          Coupe  \n",
       "1       rear wheel drive  Compact    Convertible  \n",
       "2       rear wheel drive  Compact          Coupe  \n",
       "3       rear wheel drive  Compact          Coupe  \n",
       "4       rear wheel drive  Compact    Convertible  \n",
       "...                  ...      ...            ...  \n",
       "11909    all wheel drive  Midsize  4dr Hatchback  \n",
       "11910    all wheel drive  Midsize  4dr Hatchback  \n",
       "11911    all wheel drive  Midsize  4dr Hatchback  \n",
       "11912    all wheel drive  Midsize  4dr Hatchback  \n",
       "11913  front wheel drive  Midsize          Sedan  \n",
       "\n",
       "[11199 rows x 7 columns]"
      ]
     },
     "execution_count": 83,
     "metadata": {},
     "output_type": "execute_result"
    }
   ],
   "source": [
    "cat_col = cars_data.select_dtypes(exclude = [np.number])\n",
    "cat_col"
   ]
  },
  {
   "cell_type": "markdown",
   "id": "28f6696d",
   "metadata": {
    "papermill": {
     "duration": 0.022759,
     "end_time": "2022-10-07T07:03:02.511891",
     "exception": false,
     "start_time": "2022-10-07T07:03:02.489132",
     "status": "completed"
    },
    "tags": []
   },
   "source": [
    "> Printing each column's unique values to see if the data inside columns is fine or not. In short, this step will be taken to spot anomalies."
   ]
  },
  {
   "attachments": {},
   "cell_type": "markdown",
   "id": "b90e7b09",
   "metadata": {},
   "source": [
    "anomalies = the identification of rare events, items \n",
    "\n",
    "example = if large sums of money are spent one after another within one day and it is not your typical behavior, a bank can block your card."
   ]
  },
  {
   "cell_type": "code",
   "execution_count": null,
   "id": "d1c8c026",
   "metadata": {
    "execution": {
     "iopub.execute_input": "2022-10-07T07:03:02.560450Z",
     "iopub.status.busy": "2022-10-07T07:03:02.559678Z",
     "iopub.status.idle": "2022-10-07T07:03:02.585342Z",
     "shell.execute_reply": "2022-10-07T07:03:02.584052Z"
    },
    "papermill": {
     "duration": 0.053626,
     "end_time": "2022-10-07T07:03:02.588561",
     "exception": false,
     "start_time": "2022-10-07T07:03:02.534935",
     "status": "completed"
    },
    "tags": []
   },
   "outputs": [],
   "source": [
    "for col in cat_col:\n",
    "    print(col)\n",
    "    print(cars_data[col].unique())\n",
    "    print(cars_data[col].nunique())\n",
    "    print('\\n', \"======================================\", '\\n')"
   ]
  },
  {
   "cell_type": "markdown",
   "id": "bc679e97",
   "metadata": {
    "papermill": {
     "duration": 0.023505,
     "end_time": "2022-10-07T07:03:02.636081",
     "exception": false,
     "start_time": "2022-10-07T07:03:02.612576",
     "status": "completed"
    },
    "tags": []
   },
   "source": [
    "> The transmission columns has a value 'UNKNOWN' which is clearly an anomoly. So i'll drop all of those cars who's transmission is UNKNOWN."
   ]
  },
  {
   "cell_type": "code",
   "execution_count": null,
   "id": "82823612",
   "metadata": {
    "execution": {
     "iopub.execute_input": "2022-10-07T07:03:02.685665Z",
     "iopub.status.busy": "2022-10-07T07:03:02.684627Z",
     "iopub.status.idle": "2022-10-07T07:03:02.697000Z",
     "shell.execute_reply": "2022-10-07T07:03:02.695385Z"
    },
    "papermill": {
     "duration": 0.04043,
     "end_time": "2022-10-07T07:03:02.699864",
     "exception": false,
     "start_time": "2022-10-07T07:03:02.659434",
     "status": "completed"
    },
    "tags": []
   },
   "outputs": [],
   "source": [
    "cars_data.drop(cars_data[cars_data['transmission']=='UNKNOWN'].index, axis='index', inplace = True)"
   ]
  },
  {
   "cell_type": "markdown",
   "id": "96cc7a4f",
   "metadata": {
    "papermill": {
     "duration": 0.023267,
     "end_time": "2022-10-07T07:03:02.746750",
     "exception": false,
     "start_time": "2022-10-07T07:03:02.723483",
     "status": "completed"
    },
    "tags": []
   },
   "source": [
    "# Handling Outliers"
   ]
  },
  {
   "cell_type": "markdown",
   "id": "7be972b3",
   "metadata": {
    "papermill": {
     "duration": 0.023019,
     "end_time": "2022-10-07T07:03:02.793150",
     "exception": false,
     "start_time": "2022-10-07T07:03:02.770131",
     "status": "completed"
    },
    "tags": []
   },
   "source": [
    "> Let's make a boxplot for each numerical variable to spot outliers using plotly"
   ]
  },
  {
   "attachments": {},
   "cell_type": "markdown",
   "id": "c4a9250f",
   "metadata": {},
   "source": [
    "Box plots provide a quick visual summary of the variability of values in a dataset. They show the median, upper and lower quartiles, minimum and maximum values, and any outliers in the dataset. \n",
    "\n",
    "Outliers can reveal mistakes or unusual occurrences in data."
   ]
  },
  {
   "cell_type": "code",
   "execution_count": null,
   "id": "1de88425",
   "metadata": {
    "execution": {
     "iopub.execute_input": "2022-10-07T07:03:02.842449Z",
     "iopub.status.busy": "2022-10-07T07:03:02.841440Z",
     "iopub.status.idle": "2022-10-07T07:03:04.549695Z",
     "shell.execute_reply": "2022-10-07T07:03:04.548428Z"
    },
    "papermill": {
     "duration": 1.736238,
     "end_time": "2022-10-07T07:03:04.552845",
     "exception": false,
     "start_time": "2022-10-07T07:03:02.816607",
     "status": "completed"
    },
    "tags": []
   },
   "outputs": [],
   "source": [
    "for i in num_col:\n",
    "    fig = px.box(cars_data, x = cars_data[i])\n",
    "    fig.update_traces(fillcolor = '#C9A26B')\n",
    "    fig.show()"
   ]
  },
  {
   "cell_type": "markdown",
   "id": "80ccbf77",
   "metadata": {
    "papermill": {
     "duration": 0.031169,
     "end_time": "2022-10-07T07:03:04.618242",
     "exception": false,
     "start_time": "2022-10-07T07:03:04.587073",
     "status": "completed"
    },
    "tags": []
   },
   "source": [
    "**Insights**\n",
    "* ***Engine Hp***:: Any Hp above than 500 is an outlier.\n",
    "* ***Engine Cylinders***: Cylinders above than 8 and lower than 3 are outliers.\n",
    "* ***Highway mpg***: Any highway mpg below than 12 and higher than 42 is as an outlier.\n",
    "* ***City mpg***: Any city mpg below than 7 and higher than 31 is as an outlier.\n",
    "* ***Price***: Car prices lower than 2000 and upper than 70.9K is an outlier."
   ]
  },
  {
   "cell_type": "markdown",
   "id": "6860379a",
   "metadata": {
    "papermill": {
     "duration": 0.03043,
     "end_time": "2022-10-07T07:03:04.679675",
     "exception": false,
     "start_time": "2022-10-07T07:03:04.649245",
     "status": "completed"
    },
    "tags": []
   },
   "source": [
    "> Deleting the outliers below by dropping them from the original dataset"
   ]
  },
  {
   "cell_type": "code",
   "execution_count": null,
   "id": "5cf47502",
   "metadata": {
    "execution": {
     "iopub.execute_input": "2022-10-07T07:03:04.744303Z",
     "iopub.status.busy": "2022-10-07T07:03:04.743870Z",
     "iopub.status.idle": "2022-10-07T07:03:04.792483Z",
     "shell.execute_reply": "2022-10-07T07:03:04.791254Z"
    },
    "papermill": {
     "duration": 0.084155,
     "end_time": "2022-10-07T07:03:04.795283",
     "exception": false,
     "start_time": "2022-10-07T07:03:04.711128",
     "status": "completed"
    },
    "tags": []
   },
   "outputs": [],
   "source": [
    "s1 = cars_data.shape\n",
    "clean = cars_data[['hp', 'cylinders', 'highway_mpg', 'city_mpg', 'price']]\n",
    "for i in clean.columns:\n",
    "    qt1 = cars_data[i].quantile(0.25)\n",
    "    qt3 = cars_data[i].quantile(0.75)\n",
    "    iqr =  qt3 - qt1\n",
    "    lower = qt1-(1.5*iqr)\n",
    "    upper = qt3+(1.5*iqr)\n",
    "    min_in = cars_data[cars_data[i]<lower].index\n",
    "    max_in = cars_data[cars_data[i]>upper].index\n",
    "    cars_data.drop(min_in, inplace = True)\n",
    "    cars_data.drop(max_in, inplace = True)\n",
    "s2 = cars_data.shape\n",
    "outliers = s1[0] - s2[0]\n",
    "print(\"Deleted outliers are : \", outliers)"
   ]
  },
  {
   "cell_type": "markdown",
   "id": "3461392f",
   "metadata": {
    "papermill": {
     "duration": 0.030723,
     "end_time": "2022-10-07T07:03:04.857951",
     "exception": false,
     "start_time": "2022-10-07T07:03:04.827228",
     "status": "completed"
    },
    "tags": []
   },
   "source": [
    "> Checking the changes after outliers deletion from a dataset column by plotting the boxplot again"
   ]
  },
  {
   "cell_type": "code",
   "execution_count": null,
   "id": "debcf501",
   "metadata": {
    "execution": {
     "iopub.execute_input": "2022-10-07T07:03:04.922372Z",
     "iopub.status.busy": "2022-10-07T07:03:04.921914Z",
     "iopub.status.idle": "2022-10-07T07:03:04.982511Z",
     "shell.execute_reply": "2022-10-07T07:03:04.981562Z"
    },
    "papermill": {
     "duration": 0.095799,
     "end_time": "2022-10-07T07:03:04.985035",
     "exception": false,
     "start_time": "2022-10-07T07:03:04.889236",
     "status": "completed"
    },
    "tags": []
   },
   "outputs": [],
   "source": [
    "fig = px.box(cars_data, x = cars_data['hp'])\n",
    "fig.update_traces(fillcolor = '#C9A26B')"
   ]
  },
  {
   "cell_type": "code",
   "execution_count": null,
   "id": "a2366b9f",
   "metadata": {
    "execution": {
     "iopub.execute_input": "2022-10-07T07:03:05.052079Z",
     "iopub.status.busy": "2022-10-07T07:03:05.050817Z",
     "iopub.status.idle": "2022-10-07T07:03:05.091456Z",
     "shell.execute_reply": "2022-10-07T07:03:05.090154Z"
    },
    "papermill": {
     "duration": 0.076683,
     "end_time": "2022-10-07T07:03:05.094360",
     "exception": false,
     "start_time": "2022-10-07T07:03:05.017677",
     "status": "completed"
    },
    "tags": []
   },
   "outputs": [],
   "source": [
    "cars_data.describe()"
   ]
  },
  {
   "cell_type": "markdown",
   "id": "20108017",
   "metadata": {
    "papermill": {
     "duration": 0.031281,
     "end_time": "2022-10-07T07:03:05.157629",
     "exception": false,
     "start_time": "2022-10-07T07:03:05.126348",
     "status": "completed"
    },
    "tags": []
   },
   "source": [
    "**Insights**\n",
    "* ***Engine Hp***:: The minimum hp in dataset after outlier deletion is 0, average hp is 231 and maximum hp is 485.\n",
    "* ***Engine Cylinders***: The minimum cylinders in dataset after outlier deletion are 3, average cylinders are 5 and maximum cylindes are 8.\n",
    "* ***Highway mpg***: The minimum highway mpg in dataset after outlier deletion is 12, average highway mpg is 26.3 and maximum highway mpg is 42.\n",
    "* ***City mpg***: The minimum city mpg in dataset after outlier deletion is 10, average city mpg is 19.1 and maximum city mpg is 31.\n",
    "* ***Price***: The minimum car price in dataset after outlier deletion is 2000, average car price is around 29K and maximum car price is 70.9K."
   ]
  },
  {
   "cell_type": "markdown",
   "id": "daf64dd6",
   "metadata": {
    "papermill": {
     "duration": 0.032753,
     "end_time": "2022-10-07T07:03:05.222131",
     "exception": false,
     "start_time": "2022-10-07T07:03:05.189378",
     "status": "completed"
    },
    "tags": []
   },
   "source": [
    "# Univariate Analysis"
   ]
  },
  {
   "cell_type": "code",
   "execution_count": null,
   "id": "f9a2eec8",
   "metadata": {
    "execution": {
     "iopub.execute_input": "2022-10-07T07:03:05.288371Z",
     "iopub.status.busy": "2022-10-07T07:03:05.287893Z",
     "iopub.status.idle": "2022-10-07T07:03:06.395170Z",
     "shell.execute_reply": "2022-10-07T07:03:06.393969Z"
    },
    "papermill": {
     "duration": 1.143915,
     "end_time": "2022-10-07T07:03:06.397685",
     "exception": false,
     "start_time": "2022-10-07T07:03:05.253770",
     "status": "completed"
    },
    "tags": []
   },
   "outputs": [],
   "source": [
    "for i in cars_data:\n",
    "    fig = px.histogram(cars_data, x= i, color_discrete_sequence = ['#C9A26B'])\n",
    "    fig.show()"
   ]
  },
  {
   "cell_type": "markdown",
   "id": "37b8a6d7",
   "metadata": {
    "papermill": {
     "duration": 0.052004,
     "end_time": "2022-10-07T07:03:06.502905",
     "exception": false,
     "start_time": "2022-10-07T07:03:06.450901",
     "status": "completed"
    },
    "tags": []
   },
   "source": [
    "**Insights**\n",
    "* ***Make***:: Least count: **Maserati** (2), Maximum count: **Chevrolet** (1039).\n",
    "* ***Model***: Least count: **Many models** (1), Maximum count: **Silverado 1500** (156).\n",
    "* ***Year***: Least count **1990** (76): , Maximum count: **2016** (1756).\n",
    "* ***Fuel type***: Least count: **Natural Gas** (2), Maximum count: **Regular Unleaded** (6380).\n",
    "* ***Hp***:: Least count: **Many hps** (1), Maximum count: **200** (355).\n",
    "* ***Cylinders***: Least count: **3** (11), Maximum count: **4** (4110).\n",
    "* ***Transmission***: Least count: **Automated Manual** (316), Maximum count: **Automatic** (7097).\n",
    "* ***Drive***: Least count: **four wheel drive** (1220), Maximum count: **front wheel drive** (4056).\n",
    "* ***Doors***: Least count: **3** (356), Maximum count: **4** (7185).\n",
    "* ***Size***:: Least count: **Large** (2241), Maximum count: **Compact** (3822).\n",
    "* ***Style***:: Least count: **Convertible SUV** (28), Maximum count: **Sedan** (2448).\n",
    "* ***Highway mpg***: Least count: **12** (1), Maximum count: **24** (752).\n",
    "* ***City mpg***: Least count: **10** (5), Maximum count: **17** (1117).\n",
    "* ***Popularity***: Least count: **238** (2), Maximum count: **1385** (1039).\n",
    "* ***Price***: Least count: **Many prices** (1), Maximum count: **2000** (736)."
   ]
  },
  {
   "cell_type": "markdown",
   "id": "e800f5aa",
   "metadata": {
    "papermill": {
     "duration": 0.052033,
     "end_time": "2022-10-07T07:03:06.607393",
     "exception": false,
     "start_time": "2022-10-07T07:03:06.555360",
     "status": "completed"
    },
    "tags": []
   },
   "source": [
    "# Bivariate Analysis"
   ]
  },
  {
   "cell_type": "markdown",
   "id": "5017bd6c",
   "metadata": {
    "papermill": {
     "duration": 0.052381,
     "end_time": "2022-10-07T07:03:06.712364",
     "exception": false,
     "start_time": "2022-10-07T07:03:06.659983",
     "status": "completed"
    },
    "tags": []
   },
   "source": [
    "### According to HP"
   ]
  },
  {
   "cell_type": "code",
   "execution_count": null,
   "id": "c0b4ca72",
   "metadata": {
    "execution": {
     "iopub.execute_input": "2022-10-07T07:03:06.821120Z",
     "iopub.status.busy": "2022-10-07T07:03:06.820657Z",
     "iopub.status.idle": "2022-10-07T07:03:06.850713Z",
     "shell.execute_reply": "2022-10-07T07:03:06.849535Z"
    },
    "papermill": {
     "duration": 0.086886,
     "end_time": "2022-10-07T07:03:06.853239",
     "exception": false,
     "start_time": "2022-10-07T07:03:06.766353",
     "status": "completed"
    },
    "tags": []
   },
   "outputs": [],
   "source": [
    "fig = go.Figure()\n",
    "fig.add_trace(go.Bar(x = cars_data['make'].unique(), y = cars_data.groupby('make').mean()['hp'].sort_values()[:5], marker_color = '#C9A25B'))\n",
    "fig.update_layout(title_text = 'Top 5 car brands with highest Hp', xaxis_title = \"Car Brand\", yaxis_title = \"Hp\")\n",
    "fig.show()"
   ]
  },
  {
   "cell_type": "code",
   "execution_count": null,
   "id": "1264fff9",
   "metadata": {
    "execution": {
     "iopub.execute_input": "2022-10-07T07:03:06.959691Z",
     "iopub.status.busy": "2022-10-07T07:03:06.959261Z",
     "iopub.status.idle": "2022-10-07T07:03:06.988339Z",
     "shell.execute_reply": "2022-10-07T07:03:06.987305Z"
    },
    "papermill": {
     "duration": 0.084503,
     "end_time": "2022-10-07T07:03:06.990873",
     "exception": false,
     "start_time": "2022-10-07T07:03:06.906370",
     "status": "completed"
    },
    "tags": []
   },
   "outputs": [],
   "source": [
    "fig = go.Figure()\n",
    "fig.add_trace(go.Bar(x = cars_data['model'].unique(), y = cars_data.groupby('model').mean()['hp'].sort_values()[:5], marker_color = '#C9A26B'))\n",
    "fig.update_layout(title_text = 'Top 5 car models with highest Hp', xaxis_title = \"Car Model\", yaxis_title = \"Hp\")\n",
    "fig.show()"
   ]
  },
  {
   "cell_type": "code",
   "execution_count": null,
   "id": "8ad0ee80",
   "metadata": {
    "execution": {
     "iopub.execute_input": "2022-10-07T07:03:07.100561Z",
     "iopub.status.busy": "2022-10-07T07:03:07.100070Z",
     "iopub.status.idle": "2022-10-07T07:03:07.123383Z",
     "shell.execute_reply": "2022-10-07T07:03:07.122395Z"
    },
    "papermill": {
     "duration": 0.080232,
     "end_time": "2022-10-07T07:03:07.125674",
     "exception": false,
     "start_time": "2022-10-07T07:03:07.045442",
     "status": "completed"
    },
    "tags": []
   },
   "outputs": [],
   "source": [
    "fig = go.Figure()\n",
    "fig.add_trace(go.Bar(x = cars_data['fuel_type'].unique(), y = cars_data.groupby('fuel_type').mean()['hp'].sort_values()[:5], marker_color = '#C9A26B'))\n",
    "fig.update_layout(title_text = 'Top 5 car fuel types with highest Hp', xaxis_title = \"Car Fuel Type\", yaxis_title = \"Hp\")\n",
    "fig.show()"
   ]
  },
  {
   "cell_type": "code",
   "execution_count": null,
   "id": "9b383a1d",
   "metadata": {
    "execution": {
     "iopub.execute_input": "2022-10-07T07:03:07.233939Z",
     "iopub.status.busy": "2022-10-07T07:03:07.233466Z",
     "iopub.status.idle": "2022-10-07T07:03:07.256897Z",
     "shell.execute_reply": "2022-10-07T07:03:07.255660Z"
    },
    "papermill": {
     "duration": 0.080143,
     "end_time": "2022-10-07T07:03:07.259675",
     "exception": false,
     "start_time": "2022-10-07T07:03:07.179532",
     "status": "completed"
    },
    "tags": []
   },
   "outputs": [],
   "source": [
    "fig = go.Figure()\n",
    "fig.add_trace(go.Bar(x = cars_data['transmission'].unique(), y = cars_data.groupby('transmission').mean()['hp'].sort_values(), marker_color = '#C9A26B'))\n",
    "fig.update_layout(title_text = 'Car transmissions according to Hp', xaxis_title = \"Car Transmission\", yaxis_title = \"Hp\")\n",
    "fig.show()"
   ]
  },
  {
   "cell_type": "code",
   "execution_count": null,
   "id": "4271d52b",
   "metadata": {
    "execution": {
     "iopub.execute_input": "2022-10-07T07:03:07.367957Z",
     "iopub.status.busy": "2022-10-07T07:03:07.367476Z",
     "iopub.status.idle": "2022-10-07T07:03:07.390131Z",
     "shell.execute_reply": "2022-10-07T07:03:07.388709Z"
    },
    "papermill": {
     "duration": 0.079347,
     "end_time": "2022-10-07T07:03:07.393020",
     "exception": false,
     "start_time": "2022-10-07T07:03:07.313673",
     "status": "completed"
    },
    "tags": []
   },
   "outputs": [],
   "source": [
    "fig = go.Figure()\n",
    "fig.add_trace(go.Bar(x = cars_data['drive'].unique(), y = cars_data.groupby('drive').mean()['hp'].sort_values(), marker_color = '#C9A26B'))\n",
    "fig.update_layout(title_text = 'Car drive according to Hp', xaxis_title = \"Car Drive\", yaxis_title = \"Hp\")\n",
    "fig.show()"
   ]
  },
  {
   "cell_type": "code",
   "execution_count": null,
   "id": "59aa9318",
   "metadata": {
    "execution": {
     "iopub.execute_input": "2022-10-07T07:03:07.502787Z",
     "iopub.status.busy": "2022-10-07T07:03:07.502005Z",
     "iopub.status.idle": "2022-10-07T07:03:07.524397Z",
     "shell.execute_reply": "2022-10-07T07:03:07.523147Z"
    },
    "papermill": {
     "duration": 0.078937,
     "end_time": "2022-10-07T07:03:07.526893",
     "exception": false,
     "start_time": "2022-10-07T07:03:07.447956",
     "status": "completed"
    },
    "tags": []
   },
   "outputs": [],
   "source": [
    "fig = go.Figure()\n",
    "fig.add_trace(go.Bar(x = cars_data['size'].unique(), y = cars_data.groupby('size').mean()['hp'].sort_values(), marker_color = '#C9A26B'))\n",
    "fig.update_layout(title_text = 'Car size according to Hp', xaxis_title = \"Car Size\", yaxis_title = \"Hp\")\n",
    "fig.show()"
   ]
  },
  {
   "cell_type": "code",
   "execution_count": null,
   "id": "30b564d0",
   "metadata": {
    "execution": {
     "iopub.execute_input": "2022-10-07T07:03:07.637692Z",
     "iopub.status.busy": "2022-10-07T07:03:07.637276Z",
     "iopub.status.idle": "2022-10-07T07:03:07.661433Z",
     "shell.execute_reply": "2022-10-07T07:03:07.660205Z"
    },
    "papermill": {
     "duration": 0.082101,
     "end_time": "2022-10-07T07:03:07.664086",
     "exception": false,
     "start_time": "2022-10-07T07:03:07.581985",
     "status": "completed"
    },
    "tags": []
   },
   "outputs": [],
   "source": [
    "fig = go.Figure()\n",
    "fig.add_trace(go.Bar(x = cars_data['style'].unique(), y = cars_data.groupby('style').mean()['hp'].sort_values(), marker_color = '#C9A26B'))\n",
    "fig.update_layout(title_text = 'Car style according to Hp', xaxis_title = \"Car Style\", yaxis_title = \"Hp\")\n",
    "fig.show()"
   ]
  },
  {
   "cell_type": "markdown",
   "id": "ba0679d8",
   "metadata": {
    "papermill": {
     "duration": 0.054866,
     "end_time": "2022-10-07T07:03:07.774366",
     "exception": false,
     "start_time": "2022-10-07T07:03:07.719500",
     "status": "completed"
    },
    "tags": []
   },
   "source": [
    "**Insights**\n",
    "* ***Make***: The car brand of **Chrysler** has the highest Hp of **169.8**.\n",
    "* ***Model***:: The car model of **190-Class** has the highest Hp of **74**.\n",
    "* ***Fuel Type***: The car fuel type of **Diesel** has the highest Hp of **264.3**.\n",
    "* ***Transmission***: Car transmission of **Manual** has the lowest Hp of **189.2** and car transmission of **Automated-Manual** has the highest hp of **245.6**.\n",
    "* ***Drive***: Car drive of **Rear wheel drive** has the lowest Hp of **186.2** and car drive of **Four wheel drive** has the highest hp of **269**.\n",
    "* ***Size***: Car size of **Compact** has the lowest Hp of **183.8** and car size of **Large** has the highest hp of **294**.\n",
    "* ***Style***: Car style of **Coupe** has the lowest Hp of **136.2** and car style of **Passenger Van** has the highest hp of **301.2**."
   ]
  },
  {
   "cell_type": "markdown",
   "id": "2763cd39",
   "metadata": {
    "papermill": {
     "duration": 0.055151,
     "end_time": "2022-10-07T07:03:07.884450",
     "exception": false,
     "start_time": "2022-10-07T07:03:07.829299",
     "status": "completed"
    },
    "tags": []
   },
   "source": [
    "### According to City mpg"
   ]
  },
  {
   "cell_type": "code",
   "execution_count": null,
   "id": "7a67074c",
   "metadata": {
    "execution": {
     "iopub.execute_input": "2022-10-07T07:03:07.997214Z",
     "iopub.status.busy": "2022-10-07T07:03:07.996753Z",
     "iopub.status.idle": "2022-10-07T07:03:08.019672Z",
     "shell.execute_reply": "2022-10-07T07:03:08.018562Z"
    },
    "papermill": {
     "duration": 0.082994,
     "end_time": "2022-10-07T07:03:08.022348",
     "exception": false,
     "start_time": "2022-10-07T07:03:07.939354",
     "status": "completed"
    },
    "tags": []
   },
   "outputs": [],
   "source": [
    "fig = go.Figure()\n",
    "fig.add_trace(go.Bar(x = cars_data['make'].unique(), y = cars_data.groupby('make').mean()['city_mpg'].sort_values()[:5], marker_color = '#C9A26B'))\n",
    "fig.update_layout(title_text = 'Top 5 car brands with highest city mpg', xaxis_title = \"Car Brand\", yaxis_title = \"City Mpg\")\n",
    "fig.show()"
   ]
  },
  {
   "cell_type": "code",
   "execution_count": null,
   "id": "b48d87f4",
   "metadata": {
    "execution": {
     "iopub.execute_input": "2022-10-07T07:03:08.135295Z",
     "iopub.status.busy": "2022-10-07T07:03:08.134813Z",
     "iopub.status.idle": "2022-10-07T07:03:08.161862Z",
     "shell.execute_reply": "2022-10-07T07:03:08.160502Z"
    },
    "papermill": {
     "duration": 0.086248,
     "end_time": "2022-10-07T07:03:08.164746",
     "exception": false,
     "start_time": "2022-10-07T07:03:08.078498",
     "status": "completed"
    },
    "tags": []
   },
   "outputs": [],
   "source": [
    "fig = go.Figure()\n",
    "fig.add_trace(go.Bar(x = cars_data['model'].unique(), y = cars_data.groupby('model').mean()['city_mpg'].sort_values()[:5], marker_color = '#C9A26B'))\n",
    "fig.update_layout(title_text = 'Top 5 car models with highest city mpg', xaxis_title = \"Car Model\", yaxis_title = \"City Mpg\")\n",
    "fig.show()"
   ]
  },
  {
   "cell_type": "code",
   "execution_count": null,
   "id": "3b0797ea",
   "metadata": {
    "execution": {
     "iopub.execute_input": "2022-10-07T07:03:08.277526Z",
     "iopub.status.busy": "2022-10-07T07:03:08.276593Z",
     "iopub.status.idle": "2022-10-07T07:03:08.299466Z",
     "shell.execute_reply": "2022-10-07T07:03:08.298278Z"
    },
    "papermill": {
     "duration": 0.08106,
     "end_time": "2022-10-07T07:03:08.301887",
     "exception": false,
     "start_time": "2022-10-07T07:03:08.220827",
     "status": "completed"
    },
    "tags": []
   },
   "outputs": [],
   "source": [
    "fig = go.Figure()\n",
    "fig.add_trace(go.Bar(x = cars_data['fuel_type'].unique(), y = cars_data.groupby('fuel_type').mean()['city_mpg'].sort_values()[:5], marker_color = '#C9A26B'))\n",
    "fig.update_layout(title_text = 'Top 5 car fuel types with highest city mpg', xaxis_title = \"Car Fuel Type\", yaxis_title = \"City Mpg\")\n",
    "fig.show()"
   ]
  },
  {
   "cell_type": "code",
   "execution_count": null,
   "id": "c990ec3a",
   "metadata": {
    "execution": {
     "iopub.execute_input": "2022-10-07T07:03:08.416059Z",
     "iopub.status.busy": "2022-10-07T07:03:08.415590Z",
     "iopub.status.idle": "2022-10-07T07:03:08.437707Z",
     "shell.execute_reply": "2022-10-07T07:03:08.436294Z"
    },
    "papermill": {
     "duration": 0.081973,
     "end_time": "2022-10-07T07:03:08.440569",
     "exception": false,
     "start_time": "2022-10-07T07:03:08.358596",
     "status": "completed"
    },
    "tags": []
   },
   "outputs": [],
   "source": [
    "fig = go.Figure()\n",
    "fig.add_trace(go.Bar(x = cars_data['transmission'].unique(), y = cars_data.groupby('transmission').mean()['city_mpg'].sort_values(), marker_color = '#C9A26B'))\n",
    "fig.update_layout(title_text = 'Car transmissions according to city mpg', xaxis_title = \"Car Transmission\", yaxis_title = \"City Mpg\")\n",
    "fig.show()"
   ]
  },
  {
   "cell_type": "code",
   "execution_count": null,
   "id": "36cb2a58",
   "metadata": {
    "execution": {
     "iopub.execute_input": "2022-10-07T07:03:08.554394Z",
     "iopub.status.busy": "2022-10-07T07:03:08.553418Z",
     "iopub.status.idle": "2022-10-07T07:03:08.576676Z",
     "shell.execute_reply": "2022-10-07T07:03:08.575384Z"
    },
    "papermill": {
     "duration": 0.081692,
     "end_time": "2022-10-07T07:03:08.579390",
     "exception": false,
     "start_time": "2022-10-07T07:03:08.497698",
     "status": "completed"
    },
    "tags": []
   },
   "outputs": [],
   "source": [
    "fig = go.Figure()\n",
    "fig.add_trace(go.Bar(x = cars_data['drive'].unique(), y = cars_data.groupby('drive').mean()['city_mpg'].sort_values(), marker_color = '#C9A26B'))\n",
    "fig.update_layout(title_text = 'Car drive according to city mpg', xaxis_title = \"Car Drive\", yaxis_title = \"City Mpg\")\n",
    "fig.show()"
   ]
  },
  {
   "cell_type": "code",
   "execution_count": null,
   "id": "16f5e70c",
   "metadata": {
    "execution": {
     "iopub.execute_input": "2022-10-07T07:03:08.715637Z",
     "iopub.status.busy": "2022-10-07T07:03:08.714598Z",
     "iopub.status.idle": "2022-10-07T07:03:08.740430Z",
     "shell.execute_reply": "2022-10-07T07:03:08.739154Z"
    },
    "papermill": {
     "duration": 0.093853,
     "end_time": "2022-10-07T07:03:08.743347",
     "exception": false,
     "start_time": "2022-10-07T07:03:08.649494",
     "status": "completed"
    },
    "tags": []
   },
   "outputs": [],
   "source": [
    "fig = go.Figure()\n",
    "fig.add_trace(go.Bar(x = cars_data['size'].unique(), y = cars_data.groupby('size').mean()['city_mpg'].sort_values(), marker_color = '#C9A26B'))\n",
    "fig.update_layout(title_text = 'Car size according to city mpg', xaxis_title = \"Car Size\", yaxis_title = \"City Mpg\")\n",
    "fig.show()"
   ]
  },
  {
   "cell_type": "code",
   "execution_count": null,
   "id": "6f0e2273",
   "metadata": {
    "execution": {
     "iopub.execute_input": "2022-10-07T07:03:08.853629Z",
     "iopub.status.busy": "2022-10-07T07:03:08.852829Z",
     "iopub.status.idle": "2022-10-07T07:03:08.875170Z",
     "shell.execute_reply": "2022-10-07T07:03:08.874195Z"
    },
    "papermill": {
     "duration": 0.079094,
     "end_time": "2022-10-07T07:03:08.877432",
     "exception": false,
     "start_time": "2022-10-07T07:03:08.798338",
     "status": "completed"
    },
    "tags": []
   },
   "outputs": [],
   "source": [
    "fig = go.Figure()\n",
    "fig.add_trace(go.Bar(x = cars_data['style'].unique(), y = cars_data.groupby('style').mean()['city_mpg'].sort_values(), marker_color = '#C9A26B'))\n",
    "fig.update_layout(title_text = 'Car style according to city mpg', xaxis_title = \"Car Style\", yaxis_title = \"City Mpg\")\n",
    "fig.show()"
   ]
  },
  {
   "cell_type": "markdown",
   "id": "2c889b1a",
   "metadata": {
    "papermill": {
     "duration": 0.052257,
     "end_time": "2022-10-07T07:03:08.982222",
     "exception": false,
     "start_time": "2022-10-07T07:03:08.929965",
     "status": "completed"
    },
    "tags": []
   },
   "source": [
    "**Insights**\n",
    "* ***Make***: The car brand of **Chrysler** has the highest city mpg of **16.6**.\n",
    "* ***Model***:: The car model of **190-Class and some others** has the highest city mpg of **11**.\n",
    "* ***Fuel Type***: The car fuel type of **Diesel** has the highest city mpg of **18.5**.\n",
    "* ***Transmission***: Car transmission of **Manual** has the lowest city mpg of **18.6** and car transmission of **Automated-Manual** has the highest city mpg of **23.8**.\n",
    "* ***Drive***: Car drive of **Rear wheel drive** has the lowest city mpg of **15.1** and car drive of **Four wheel drive** has the highest city mpg of **21.8**.\n",
    "* ***Size***: Car size of **Compact** has the lowest city mpg of **15.8** and car size of **Large** has the highest city mpg of **21.3**.\n",
    "* ***Style***: Car style of **Coupe** has the lowest city mpg of **12.5** and car style of **Passenger Van** has the highest city mpg of **24.3**."
   ]
  },
  {
   "cell_type": "markdown",
   "id": "69202ce9",
   "metadata": {
    "papermill": {
     "duration": 0.053657,
     "end_time": "2022-10-07T07:03:09.088704",
     "exception": false,
     "start_time": "2022-10-07T07:03:09.035047",
     "status": "completed"
    },
    "tags": []
   },
   "source": [
    "### According to Highway mpg"
   ]
  },
  {
   "cell_type": "code",
   "execution_count": null,
   "id": "056b692d",
   "metadata": {
    "execution": {
     "iopub.execute_input": "2022-10-07T07:03:09.198481Z",
     "iopub.status.busy": "2022-10-07T07:03:09.197271Z",
     "iopub.status.idle": "2022-10-07T07:03:09.221504Z",
     "shell.execute_reply": "2022-10-07T07:03:09.220223Z"
    },
    "papermill": {
     "duration": 0.081775,
     "end_time": "2022-10-07T07:03:09.224110",
     "exception": false,
     "start_time": "2022-10-07T07:03:09.142335",
     "status": "completed"
    },
    "tags": []
   },
   "outputs": [],
   "source": [
    "fig = go.Figure()\n",
    "fig.add_trace(go.Bar(x = cars_data['make'].unique(), y = cars_data.groupby('make').mean()['highway_mpg'].sort_values()[:5], marker_color = '#C9A26B'))\n",
    "fig.update_layout(title_text = 'Top 5 car brands with highest highway mpg', xaxis_title = \"Car Brand\", yaxis_title = \"Highway Mpg\")\n",
    "fig.show()"
   ]
  },
  {
   "cell_type": "code",
   "execution_count": null,
   "id": "658bbf8f",
   "metadata": {
    "execution": {
     "iopub.execute_input": "2022-10-07T07:03:09.333303Z",
     "iopub.status.busy": "2022-10-07T07:03:09.332541Z",
     "iopub.status.idle": "2022-10-07T07:03:09.358090Z",
     "shell.execute_reply": "2022-10-07T07:03:09.356855Z"
    },
    "papermill": {
     "duration": 0.083024,
     "end_time": "2022-10-07T07:03:09.360632",
     "exception": false,
     "start_time": "2022-10-07T07:03:09.277608",
     "status": "completed"
    },
    "tags": []
   },
   "outputs": [],
   "source": [
    "fig = go.Figure()\n",
    "fig.add_trace(go.Bar(x = cars_data['model'].unique(), y = cars_data.groupby('model').mean()['highway_mpg'].sort_values()[:5], marker_color = '#C9A26B'))\n",
    "fig.update_layout(title_text = 'Top 5 car models with highest highway mpg', xaxis_title = \"Car Model\", yaxis_title = \"Highway Mpg\")\n",
    "fig.show()"
   ]
  },
  {
   "cell_type": "code",
   "execution_count": null,
   "id": "a2e31572",
   "metadata": {
    "execution": {
     "iopub.execute_input": "2022-10-07T07:03:09.473474Z",
     "iopub.status.busy": "2022-10-07T07:03:09.473010Z",
     "iopub.status.idle": "2022-10-07T07:03:09.495362Z",
     "shell.execute_reply": "2022-10-07T07:03:09.494085Z"
    },
    "papermill": {
     "duration": 0.081156,
     "end_time": "2022-10-07T07:03:09.497915",
     "exception": false,
     "start_time": "2022-10-07T07:03:09.416759",
     "status": "completed"
    },
    "tags": []
   },
   "outputs": [],
   "source": [
    "fig = go.Figure()\n",
    "fig.add_trace(go.Bar(x = cars_data['fuel_type'].unique(), y = cars_data.groupby('fuel_type').mean()['highway_mpg'].sort_values()[:5], marker_color = '#C9A26B'))\n",
    "fig.update_layout(title_text = 'Top 5 car fuel types with highest highway mpg', xaxis_title = \"Car Fuel Type\", yaxis_title = \"Highway Mpg\")\n",
    "fig.show()"
   ]
  },
  {
   "cell_type": "code",
   "execution_count": null,
   "id": "5c21b536",
   "metadata": {
    "execution": {
     "iopub.execute_input": "2022-10-07T07:03:09.610834Z",
     "iopub.status.busy": "2022-10-07T07:03:09.610349Z",
     "iopub.status.idle": "2022-10-07T07:03:09.633386Z",
     "shell.execute_reply": "2022-10-07T07:03:09.632357Z"
    },
    "papermill": {
     "duration": 0.084052,
     "end_time": "2022-10-07T07:03:09.636478",
     "exception": false,
     "start_time": "2022-10-07T07:03:09.552426",
     "status": "completed"
    },
    "tags": []
   },
   "outputs": [],
   "source": [
    "fig = go.Figure()\n",
    "fig.add_trace(go.Bar(x = cars_data['transmission'].unique(), y = cars_data.groupby('transmission').mean()['highway_mpg'].sort_values(), marker_color = '#C9A26B'))\n",
    "fig.update_layout(title_text = 'Car transmissions according to highway mpg', xaxis_title = \"Car Transmission\", yaxis_title = \"Highway Mpg\")\n",
    "fig.show()"
   ]
  },
  {
   "cell_type": "code",
   "execution_count": null,
   "id": "fb00ed79",
   "metadata": {
    "execution": {
     "iopub.execute_input": "2022-10-07T07:03:09.758188Z",
     "iopub.status.busy": "2022-10-07T07:03:09.757293Z",
     "iopub.status.idle": "2022-10-07T07:03:09.782119Z",
     "shell.execute_reply": "2022-10-07T07:03:09.780948Z"
    },
    "papermill": {
     "duration": 0.086716,
     "end_time": "2022-10-07T07:03:09.784645",
     "exception": false,
     "start_time": "2022-10-07T07:03:09.697929",
     "status": "completed"
    },
    "tags": []
   },
   "outputs": [],
   "source": [
    "fig = go.Figure()\n",
    "fig.add_trace(go.Bar(x = cars_data['drive'].unique(), y = cars_data.groupby('drive').mean()['highway_mpg'].sort_values(), marker_color = '#C9A26B'))\n",
    "fig.update_layout(title_text = 'Car drive according to highway mpg', xaxis_title = \"Car Drive\", yaxis_title = \"Highway Mpg\")\n",
    "fig.show()"
   ]
  },
  {
   "cell_type": "code",
   "execution_count": null,
   "id": "295ecc52",
   "metadata": {
    "execution": {
     "iopub.execute_input": "2022-10-07T07:03:09.898237Z",
     "iopub.status.busy": "2022-10-07T07:03:09.897368Z",
     "iopub.status.idle": "2022-10-07T07:03:09.920100Z",
     "shell.execute_reply": "2022-10-07T07:03:09.918780Z"
    },
    "papermill": {
     "duration": 0.08285,
     "end_time": "2022-10-07T07:03:09.922699",
     "exception": false,
     "start_time": "2022-10-07T07:03:09.839849",
     "status": "completed"
    },
    "tags": []
   },
   "outputs": [],
   "source": [
    "fig = go.Figure()\n",
    "fig.add_trace(go.Bar(x = cars_data['size'].unique(), y = cars_data.groupby('size').mean()['highway_mpg'].sort_values(), marker_color = '#C9A26B'))\n",
    "fig.update_layout(title_text = 'Car size according to highway mpg', xaxis_title = \"Car Size\", yaxis_title = \"Highway Mpg\")\n",
    "fig.show()"
   ]
  },
  {
   "cell_type": "code",
   "execution_count": null,
   "id": "90900fb7",
   "metadata": {
    "execution": {
     "iopub.execute_input": "2022-10-07T07:03:10.037478Z",
     "iopub.status.busy": "2022-10-07T07:03:10.036933Z",
     "iopub.status.idle": "2022-10-07T07:03:10.061203Z",
     "shell.execute_reply": "2022-10-07T07:03:10.059854Z"
    },
    "papermill": {
     "duration": 0.084599,
     "end_time": "2022-10-07T07:03:10.064044",
     "exception": false,
     "start_time": "2022-10-07T07:03:09.979445",
     "status": "completed"
    },
    "tags": []
   },
   "outputs": [],
   "source": [
    "fig = go.Figure()\n",
    "fig.add_trace(go.Bar(x = cars_data['style'].unique(), y = cars_data.groupby('style').mean()['highway_mpg'].sort_values(), marker_color = '#C9A26B'))\n",
    "fig.update_layout(title_text = 'Car style according to highway mpg', xaxis_title = \"Car Style\", yaxis_title = \"Highway Mpg\")\n",
    "fig.show()"
   ]
  },
  {
   "cell_type": "markdown",
   "id": "25e4999e",
   "metadata": {
    "papermill": {
     "duration": 0.054647,
     "end_time": "2022-10-07T07:03:10.175615",
     "exception": false,
     "start_time": "2022-10-07T07:03:10.120968",
     "status": "completed"
    },
    "tags": []
   },
   "source": [
    "**Insights**\n",
    "* ***Make***: The car brand of **Chrysler** has the highest highay mpg of **23.2**.\n",
    "* ***Model***:: The car model of **190-Class** has the highest highay mpg of **14.5**.\n",
    "* ***Fuel Type***: The car fuel type of **Diesel** has the highest highay mpg of **25.9**.\n",
    "* ***Transmission***: Car transmission of **Manual** has the lowest highay mpg of **25.6** and car transmission of **Automated-Manual** has the highest highay mpg of **32.4**.\n",
    "* ***Drive***: Car drive of **Rear wheel drive** has the lowest highay mpg of **19.8** and car drive of **Four wheel drive** has the highest highay mpg of **30**.\n",
    "* ***Size***: Car size of **Compact** has the lowest highay mpg of **22.1** and car size of **Large** has the highest highay mpg of **28.5**.\n",
    "* ***Style***: Car style of **Coupe** has the lowest highay mpg of **16.5** and car style of **Passenger Van** has the highest highay mpg of **32.4**."
   ]
  },
  {
   "cell_type": "markdown",
   "id": "49740e0e",
   "metadata": {
    "papermill": {
     "duration": 0.054444,
     "end_time": "2022-10-07T07:03:10.285503",
     "exception": false,
     "start_time": "2022-10-07T07:03:10.231059",
     "status": "completed"
    },
    "tags": []
   },
   "source": [
    "### According to Popularity"
   ]
  },
  {
   "cell_type": "code",
   "execution_count": null,
   "id": "241baec1",
   "metadata": {
    "execution": {
     "iopub.execute_input": "2022-10-07T07:03:10.397560Z",
     "iopub.status.busy": "2022-10-07T07:03:10.397098Z",
     "iopub.status.idle": "2022-10-07T07:03:10.419639Z",
     "shell.execute_reply": "2022-10-07T07:03:10.418694Z"
    },
    "papermill": {
     "duration": 0.081655,
     "end_time": "2022-10-07T07:03:10.421962",
     "exception": false,
     "start_time": "2022-10-07T07:03:10.340307",
     "status": "completed"
    },
    "tags": []
   },
   "outputs": [],
   "source": [
    "fig = go.Figure()\n",
    "fig.add_trace(go.Bar(x = cars_data['make'].unique(), y = cars_data.groupby('make').mean()['popularity'].sort_values()[:5], marker_color = '#C9A26B'))\n",
    "fig.update_layout(title_text = 'Top 5 popular car brands', xaxis_title = \"Car Brand\", yaxis_title = \"Popularity\")\n",
    "fig.show()"
   ]
  },
  {
   "cell_type": "code",
   "execution_count": null,
   "id": "31f0e1dd",
   "metadata": {
    "execution": {
     "iopub.execute_input": "2022-10-07T07:03:10.538719Z",
     "iopub.status.busy": "2022-10-07T07:03:10.537586Z",
     "iopub.status.idle": "2022-10-07T07:03:10.563565Z",
     "shell.execute_reply": "2022-10-07T07:03:10.562102Z"
    },
    "papermill": {
     "duration": 0.0869,
     "end_time": "2022-10-07T07:03:10.566251",
     "exception": false,
     "start_time": "2022-10-07T07:03:10.479351",
     "status": "completed"
    },
    "tags": []
   },
   "outputs": [],
   "source": [
    "fig = go.Figure()\n",
    "fig.add_trace(go.Bar(x = cars_data['model'].unique(), y = cars_data.groupby('model').mean()['popularity'].sort_values()[:5], marker_color = '#C9A26B'))\n",
    "fig.update_layout(title_text = 'Top 5 popular car models', xaxis_title = \"Car Model\", yaxis_title = \"Popularity\")\n",
    "fig.show()"
   ]
  },
  {
   "cell_type": "code",
   "execution_count": null,
   "id": "451aae92",
   "metadata": {
    "execution": {
     "iopub.execute_input": "2022-10-07T07:03:10.681559Z",
     "iopub.status.busy": "2022-10-07T07:03:10.680689Z",
     "iopub.status.idle": "2022-10-07T07:03:10.703303Z",
     "shell.execute_reply": "2022-10-07T07:03:10.702112Z"
    },
    "papermill": {
     "duration": 0.083738,
     "end_time": "2022-10-07T07:03:10.705984",
     "exception": false,
     "start_time": "2022-10-07T07:03:10.622246",
     "status": "completed"
    },
    "tags": []
   },
   "outputs": [],
   "source": [
    "fig = go.Figure()\n",
    "fig.add_trace(go.Bar(x = cars_data['fuel_type'].unique(), y = cars_data.groupby('fuel_type').mean()['popularity'].sort_values()[:5], marker_color = '#C9A26B'))\n",
    "fig.update_layout(title_text = 'Top 5 popular car fuel types', xaxis_title = \"Car Fuel Type\", yaxis_title = \"Popularity\")\n",
    "fig.show()"
   ]
  },
  {
   "cell_type": "code",
   "execution_count": null,
   "id": "458fe4bf",
   "metadata": {
    "execution": {
     "iopub.execute_input": "2022-10-07T07:03:10.822948Z",
     "iopub.status.busy": "2022-10-07T07:03:10.822453Z",
     "iopub.status.idle": "2022-10-07T07:03:10.845776Z",
     "shell.execute_reply": "2022-10-07T07:03:10.844421Z"
    },
    "papermill": {
     "duration": 0.085698,
     "end_time": "2022-10-07T07:03:10.848657",
     "exception": false,
     "start_time": "2022-10-07T07:03:10.762959",
     "status": "completed"
    },
    "tags": []
   },
   "outputs": [],
   "source": [
    "fig = go.Figure()\n",
    "fig.add_trace(go.Bar(x = cars_data['transmission'].unique(), y = cars_data.groupby('transmission').mean()['popularity'].sort_values(), marker_color = '#C9A26B'))\n",
    "fig.update_layout(title_text = 'Popularity in car transmissions', xaxis_title = \"Car Transmission\", yaxis_title = \"Popularity\")\n",
    "fig.show()"
   ]
  },
  {
   "cell_type": "code",
   "execution_count": null,
   "id": "d9e7750e",
   "metadata": {
    "execution": {
     "iopub.execute_input": "2022-10-07T07:03:10.968462Z",
     "iopub.status.busy": "2022-10-07T07:03:10.967568Z",
     "iopub.status.idle": "2022-10-07T07:03:10.989997Z",
     "shell.execute_reply": "2022-10-07T07:03:10.988872Z"
    },
    "papermill": {
     "duration": 0.084697,
     "end_time": "2022-10-07T07:03:10.992479",
     "exception": false,
     "start_time": "2022-10-07T07:03:10.907782",
     "status": "completed"
    },
    "tags": []
   },
   "outputs": [],
   "source": [
    "fig = go.Figure()\n",
    "fig.add_trace(go.Bar(x = cars_data['drive'].unique(), y = cars_data.groupby('drive').mean()['popularity'].sort_values(), marker_color = '#C9A26B'))\n",
    "fig.update_layout(title_text = 'Popularity in car drives', xaxis_title = \"Car Drive\", yaxis_title = \"Popularity\")\n",
    "fig.show()"
   ]
  },
  {
   "cell_type": "code",
   "execution_count": null,
   "id": "7875c537",
   "metadata": {
    "execution": {
     "iopub.execute_input": "2022-10-07T07:03:11.109172Z",
     "iopub.status.busy": "2022-10-07T07:03:11.108464Z",
     "iopub.status.idle": "2022-10-07T07:03:11.130637Z",
     "shell.execute_reply": "2022-10-07T07:03:11.129322Z"
    },
    "papermill": {
     "duration": 0.083745,
     "end_time": "2022-10-07T07:03:11.133643",
     "exception": false,
     "start_time": "2022-10-07T07:03:11.049898",
     "status": "completed"
    },
    "tags": []
   },
   "outputs": [],
   "source": [
    "fig = go.Figure()\n",
    "fig.add_trace(go.Bar(x = cars_data['size'].unique(), y = cars_data.groupby('size').mean()['popularity'].sort_values(), marker_color = '#C9A26B'))\n",
    "fig.update_layout(title_text = 'Popularity in car sizes', xaxis_title = \"Car Size\", yaxis_title = \"Popularity\")\n",
    "fig.show()"
   ]
  },
  {
   "cell_type": "code",
   "execution_count": null,
   "id": "ec7453e6",
   "metadata": {
    "execution": {
     "iopub.execute_input": "2022-10-07T07:03:11.249638Z",
     "iopub.status.busy": "2022-10-07T07:03:11.249189Z",
     "iopub.status.idle": "2022-10-07T07:03:11.271466Z",
     "shell.execute_reply": "2022-10-07T07:03:11.270224Z"
    },
    "papermill": {
     "duration": 0.083709,
     "end_time": "2022-10-07T07:03:11.274180",
     "exception": false,
     "start_time": "2022-10-07T07:03:11.190471",
     "status": "completed"
    },
    "tags": []
   },
   "outputs": [],
   "source": [
    "fig = go.Figure()\n",
    "fig.add_trace(go.Bar(x = cars_data['style'].unique(), y = cars_data.groupby('style').mean()['popularity'].sort_values(), marker_color = '#C9A26B'))\n",
    "fig.update_layout(title_text = 'Popularity in car styles', xaxis_title = \"Car Style\", yaxis_title = \"Popularity\")\n",
    "fig.show()"
   ]
  },
  {
   "cell_type": "markdown",
   "id": "f7def46f",
   "metadata": {
    "papermill": {
     "duration": 0.057709,
     "end_time": "2022-10-07T07:03:11.391162",
     "exception": false,
     "start_time": "2022-10-07T07:03:11.333453",
     "status": "completed"
    },
    "tags": []
   },
   "source": [
    "**Insights**\n",
    "* ***Make***: The car brand of **Chrysler** has the highest popularity of **113**.\n",
    "* ***Model***:: The car model of **190-Class and some others** has the highest popularity of **26**.\n",
    "* ***Fuel Type***: The car fuel type of **Diesel** has the highest popularity of **1421.3**.\n",
    "* ***Transmission***: Car transmission of **Manual** has the lowest popularity of **1536.5** and car transmission of **Automated-Manual** has the highest popularity of **1715.7**.\n",
    "* ***Drive***: Car drive of **Rear wheel drive** has the lowest popularity of **1360** and car drive of **Four wheel drive** has the highest popularity of **1833.5**.\n",
    "* ***Size***: Car size of **Compact** has the lowest popularity of **1425.9** and car size of **Large** has the highest popularity of **1989.8**.\n",
    "* ***Style***: Car style of **Coupe** has the lowest popularity of **814.5** and car style of **Passenger Van** has the highest popularity of **3871.7**."
   ]
  },
  {
   "cell_type": "markdown",
   "id": "d614ae3c",
   "metadata": {
    "papermill": {
     "duration": 0.056139,
     "end_time": "2022-10-07T07:03:11.505894",
     "exception": false,
     "start_time": "2022-10-07T07:03:11.449755",
     "status": "completed"
    },
    "tags": []
   },
   "source": [
    "### According to Price"
   ]
  },
  {
   "cell_type": "code",
   "execution_count": null,
   "id": "d603a990",
   "metadata": {
    "execution": {
     "iopub.execute_input": "2022-10-07T07:03:11.623297Z",
     "iopub.status.busy": "2022-10-07T07:03:11.622847Z",
     "iopub.status.idle": "2022-10-07T07:03:11.645272Z",
     "shell.execute_reply": "2022-10-07T07:03:11.644103Z"
    },
    "papermill": {
     "duration": 0.084557,
     "end_time": "2022-10-07T07:03:11.648067",
     "exception": false,
     "start_time": "2022-10-07T07:03:11.563510",
     "status": "completed"
    },
    "tags": []
   },
   "outputs": [],
   "source": [
    "fig = go.Figure()\n",
    "fig.add_trace(go.Bar(x = cars_data['make'].unique(), y = cars_data.groupby('make').mean()['price'].sort_values()[:5], marker_color = '#C9A26B'))\n",
    "fig.update_layout(title_text = 'Top 5 expensive car brands', xaxis_title = \"Car Brand\", yaxis_title = \"Price\")\n",
    "fig.show()"
   ]
  },
  {
   "cell_type": "code",
   "execution_count": null,
   "id": "6ed99fb7",
   "metadata": {
    "execution": {
     "iopub.execute_input": "2022-10-07T07:03:11.767315Z",
     "iopub.status.busy": "2022-10-07T07:03:11.766846Z",
     "iopub.status.idle": "2022-10-07T07:03:11.793040Z",
     "shell.execute_reply": "2022-10-07T07:03:11.791858Z"
    },
    "papermill": {
     "duration": 0.08861,
     "end_time": "2022-10-07T07:03:11.795883",
     "exception": false,
     "start_time": "2022-10-07T07:03:11.707273",
     "status": "completed"
    },
    "tags": []
   },
   "outputs": [],
   "source": [
    "fig = go.Figure()\n",
    "fig.add_trace(go.Bar(x = cars_data['model'].unique(), y = cars_data.groupby('model').mean()['price'].sort_values()[:5], marker_color = '#C9A26B'))\n",
    "fig.update_layout(title_text = 'Top 5 expensive car models', xaxis_title = \"Car Model\", yaxis_title = \"Price\")\n",
    "fig.show()"
   ]
  },
  {
   "cell_type": "code",
   "execution_count": null,
   "id": "8cfc8382",
   "metadata": {
    "execution": {
     "iopub.execute_input": "2022-10-07T07:03:11.913646Z",
     "iopub.status.busy": "2022-10-07T07:03:11.913167Z",
     "iopub.status.idle": "2022-10-07T07:03:11.936561Z",
     "shell.execute_reply": "2022-10-07T07:03:11.935242Z"
    },
    "papermill": {
     "duration": 0.085603,
     "end_time": "2022-10-07T07:03:11.939430",
     "exception": false,
     "start_time": "2022-10-07T07:03:11.853827",
     "status": "completed"
    },
    "tags": []
   },
   "outputs": [],
   "source": [
    "fig = go.Figure()\n",
    "fig.add_trace(go.Bar(x = cars_data['fuel_type'].unique(), y = cars_data.groupby('fuel_type').mean()['price'].sort_values()[:5], marker_color = '#C9A26B'))\n",
    "fig.update_layout(title_text = 'Top 5 expensive car Fuel Types', xaxis_title = \"Car Fuel Type\", yaxis_title = \"Price\")\n",
    "fig.show()"
   ]
  },
  {
   "cell_type": "code",
   "execution_count": null,
   "id": "1dad7ecc",
   "metadata": {
    "execution": {
     "iopub.execute_input": "2022-10-07T07:03:12.060591Z",
     "iopub.status.busy": "2022-10-07T07:03:12.060124Z",
     "iopub.status.idle": "2022-10-07T07:03:12.082243Z",
     "shell.execute_reply": "2022-10-07T07:03:12.080982Z"
    },
    "papermill": {
     "duration": 0.085359,
     "end_time": "2022-10-07T07:03:12.084832",
     "exception": false,
     "start_time": "2022-10-07T07:03:11.999473",
     "status": "completed"
    },
    "tags": []
   },
   "outputs": [],
   "source": [
    "fig = go.Figure()\n",
    "fig.add_trace(go.Bar(x = cars_data['transmission'].unique(), y = cars_data.groupby('transmission').mean()['price'].sort_values(), marker_color = '#C9A26B'))\n",
    "fig.update_layout(title_text = 'Car transmissions according to price', xaxis_title = \"Car Transmission\", yaxis_title = \"Price\")\n",
    "fig.show()"
   ]
  },
  {
   "cell_type": "code",
   "execution_count": null,
   "id": "2367b56a",
   "metadata": {
    "execution": {
     "iopub.execute_input": "2022-10-07T07:03:12.204010Z",
     "iopub.status.busy": "2022-10-07T07:03:12.203064Z",
     "iopub.status.idle": "2022-10-07T07:03:12.227261Z",
     "shell.execute_reply": "2022-10-07T07:03:12.225833Z"
    },
    "papermill": {
     "duration": 0.086895,
     "end_time": "2022-10-07T07:03:12.230297",
     "exception": false,
     "start_time": "2022-10-07T07:03:12.143402",
     "status": "completed"
    },
    "tags": []
   },
   "outputs": [],
   "source": [
    "fig = go.Figure()\n",
    "fig.add_trace(go.Bar(x = cars_data['drive'].unique(), y = cars_data.groupby('drive').mean()['price'].sort_values(), marker_color = '#C9A26B'))\n",
    "fig.update_layout(title_text = 'Car drive according to price', xaxis_title = \"Car Drive\", yaxis_title = \"Price\")\n",
    "fig.show()"
   ]
  },
  {
   "cell_type": "code",
   "execution_count": null,
   "id": "253e5b7f",
   "metadata": {
    "execution": {
     "iopub.execute_input": "2022-10-07T07:03:12.350626Z",
     "iopub.status.busy": "2022-10-07T07:03:12.349572Z",
     "iopub.status.idle": "2022-10-07T07:03:12.372152Z",
     "shell.execute_reply": "2022-10-07T07:03:12.370733Z"
    },
    "papermill": {
     "duration": 0.085059,
     "end_time": "2022-10-07T07:03:12.374837",
     "exception": false,
     "start_time": "2022-10-07T07:03:12.289778",
     "status": "completed"
    },
    "tags": []
   },
   "outputs": [],
   "source": [
    "fig = go.Figure()\n",
    "fig.add_trace(go.Bar(x = cars_data['size'].unique(), y = cars_data.groupby('size').mean()['price'].sort_values(), marker_color = '#C9A26B'))\n",
    "fig.update_layout(title_text = 'Car size according to price', xaxis_title = \"Car Size\", yaxis_title = \"Price\")\n",
    "fig.show()"
   ]
  },
  {
   "cell_type": "code",
   "execution_count": null,
   "id": "834cab8d",
   "metadata": {
    "execution": {
     "iopub.execute_input": "2022-10-07T07:03:12.496406Z",
     "iopub.status.busy": "2022-10-07T07:03:12.495941Z",
     "iopub.status.idle": "2022-10-07T07:03:12.518358Z",
     "shell.execute_reply": "2022-10-07T07:03:12.517146Z"
    },
    "papermill": {
     "duration": 0.086467,
     "end_time": "2022-10-07T07:03:12.520895",
     "exception": false,
     "start_time": "2022-10-07T07:03:12.434428",
     "status": "completed"
    },
    "tags": []
   },
   "outputs": [],
   "source": [
    "fig = go.Figure()\n",
    "fig.add_trace(go.Bar(x = cars_data['style'].unique(), y = cars_data.groupby('style').mean()['price'].sort_values(), marker_color = '#C9A26B'))\n",
    "fig.update_layout(title_text = 'Car style according to price', xaxis_title = \"Car Style\", yaxis_title = \"Price\")\n",
    "fig.show()"
   ]
  },
  {
   "cell_type": "markdown",
   "id": "10dd8558",
   "metadata": {
    "papermill": {
     "duration": 0.058453,
     "end_time": "2022-10-07T07:03:12.638509",
     "exception": false,
     "start_time": "2022-10-07T07:03:12.580056",
     "status": "completed"
    },
    "tags": []
   },
   "source": [
    "**Insights**\n",
    "* ***Make***: The car brand of **Chrysler** has the highest pricec of around **20K**.\n",
    "* ***Model***:: Expensive car models like **190-Class and some others** has the highest prices of around **2000**.\n",
    "* ***Fuel Type***: Cars that use fuel type of **Diesel** has highest prices of around **39.1K**.\n",
    "* ***Transmission***: Car transmission of **Manual** has prices around **18.3K** and car transmission of **Automated-Manual** has the prices around **36K**.\n",
    "* ***Drive***: Car drive of **Rear wheel drive** has the prices around **23K** and car drive of **Four wheel drive** has the prices around **38.2K**.\n",
    "* ***Size***: **Compact** car sizes has prices around **22.6K** and car size of **Large** has prices around of **35.9K**.\n",
    "* ***Style***: Car style of **Coupe** has prices around **14.8K** and car style of **Passenger Van** has the prices around **37.1K**."
   ]
  },
  {
   "cell_type": "markdown",
   "id": "140d9370",
   "metadata": {
    "papermill": {
     "duration": 0.05855,
     "end_time": "2022-10-07T07:03:12.756107",
     "exception": false,
     "start_time": "2022-10-07T07:03:12.697557",
     "status": "completed"
    },
    "tags": []
   },
   "source": [
    "### Relation between price and other numerical variables"
   ]
  },
  {
   "cell_type": "code",
   "execution_count": null,
   "id": "ed70a6f5",
   "metadata": {
    "execution": {
     "iopub.execute_input": "2022-10-07T07:03:12.876443Z",
     "iopub.status.busy": "2022-10-07T07:03:12.875975Z",
     "iopub.status.idle": "2022-10-07T07:03:12.982737Z",
     "shell.execute_reply": "2022-10-07T07:03:12.981773Z"
    },
    "papermill": {
     "duration": 0.171091,
     "end_time": "2022-10-07T07:03:12.986577",
     "exception": false,
     "start_time": "2022-10-07T07:03:12.815486",
     "status": "completed"
    },
    "tags": []
   },
   "outputs": [],
   "source": [
    "fig = px.scatter(cars_data, x = 'year', y = 'price', color = 'cylinders')\n",
    "fig.show()"
   ]
  },
  {
   "cell_type": "markdown",
   "id": "534afa76",
   "metadata": {
    "papermill": {
     "duration": 0.060743,
     "end_time": "2022-10-07T07:03:13.109812",
     "exception": false,
     "start_time": "2022-10-07T07:03:13.049069",
     "status": "completed"
    },
    "tags": []
   },
   "source": [
    "**Insights**\n",
    "* The amount of cylinders being used in cars have increased from year 2001.\n",
    "* In year 2015, 2016 and 2017, it can be observed that most of the cars are using 4 number of cylinders. Perhaps this step is taken to reduce carbon emissions. \n",
    "* It can also be seen that the car prices have rapidly increased in 2001. They were low in previous years. It might be due to inflation or something like that. Furthermore, the prices kept increasing since year 2001."
   ]
  },
  {
   "cell_type": "code",
   "execution_count": null,
   "id": "acf25035",
   "metadata": {
    "execution": {
     "iopub.execute_input": "2022-10-07T07:03:13.233772Z",
     "iopub.status.busy": "2022-10-07T07:03:13.232961Z",
     "iopub.status.idle": "2022-10-07T07:03:13.302319Z",
     "shell.execute_reply": "2022-10-07T07:03:13.300884Z"
    },
    "papermill": {
     "duration": 0.135304,
     "end_time": "2022-10-07T07:03:13.306050",
     "exception": false,
     "start_time": "2022-10-07T07:03:13.170746",
     "status": "completed"
    },
    "tags": []
   },
   "outputs": [],
   "source": [
    "fig = px.scatter(cars_data, x = 'hp', y = 'price', color = 'cylinders')\n",
    "fig.show()"
   ]
  },
  {
   "cell_type": "markdown",
   "id": "0a64985e",
   "metadata": {
    "papermill": {
     "duration": 0.06236,
     "end_time": "2022-10-07T07:03:13.433307",
     "exception": false,
     "start_time": "2022-10-07T07:03:13.370947",
     "status": "completed"
    },
    "tags": []
   },
   "source": [
    "**Insights**\n",
    "* There is a positive relation between hp and price. It can be seen that as the hp increases, the car prices also increases.\n",
    "* As the hp increases more than 290, most of the cars are likely to have 8 cylinders. \n",
    "* Cars having hp less than 180 are more likely to have 4 cylinders."
   ]
  },
  {
   "cell_type": "code",
   "execution_count": null,
   "id": "42cb0f86",
   "metadata": {
    "execution": {
     "iopub.execute_input": "2022-10-07T07:03:13.566678Z",
     "iopub.status.busy": "2022-10-07T07:03:13.566240Z",
     "iopub.status.idle": "2022-10-07T07:03:13.637271Z",
     "shell.execute_reply": "2022-10-07T07:03:13.635901Z"
    },
    "papermill": {
     "duration": 0.141928,
     "end_time": "2022-10-07T07:03:13.641091",
     "exception": false,
     "start_time": "2022-10-07T07:03:13.499163",
     "status": "completed"
    },
    "tags": []
   },
   "outputs": [],
   "source": [
    "fig = px.scatter(cars_data, x = 'cylinders', y = 'price', color = 'cylinders')\n",
    "fig.show()"
   ]
  },
  {
   "cell_type": "markdown",
   "id": "a560ab04",
   "metadata": {
    "papermill": {
     "duration": 0.06679,
     "end_time": "2022-10-07T07:03:13.775035",
     "exception": false,
     "start_time": "2022-10-07T07:03:13.708245",
     "status": "completed"
    },
    "tags": []
   },
   "source": [
    "**Insights**\n",
    "* The price of 4, 6 and 8 number of cylinders can be as low as 2000 and as high as 70K."
   ]
  },
  {
   "cell_type": "code",
   "execution_count": null,
   "id": "cf9c6b2f",
   "metadata": {
    "execution": {
     "iopub.execute_input": "2022-10-07T07:03:13.913908Z",
     "iopub.status.busy": "2022-10-07T07:03:13.913445Z",
     "iopub.status.idle": "2022-10-07T07:03:13.981695Z",
     "shell.execute_reply": "2022-10-07T07:03:13.980286Z"
    },
    "papermill": {
     "duration": 0.14086,
     "end_time": "2022-10-07T07:03:13.985312",
     "exception": false,
     "start_time": "2022-10-07T07:03:13.844452",
     "status": "completed"
    },
    "tags": []
   },
   "outputs": [],
   "source": [
    "fig = px.scatter(cars_data, x = 'doors', y = 'price', color = 'cylinders')\n",
    "fig.show()"
   ]
  },
  {
   "cell_type": "markdown",
   "id": "a6219800",
   "metadata": {
    "papermill": {
     "duration": 0.068606,
     "end_time": "2022-10-07T07:03:14.124720",
     "exception": false,
     "start_time": "2022-10-07T07:03:14.056114",
     "status": "completed"
    },
    "tags": []
   },
   "source": [
    "**Insights**\n",
    "* Most of the cars having 2 doors are more likely to have 4 cylinders on average. \n",
    "* Most of the cars having 4 doors and price above than 48K are more likely to have 8 cylinders."
   ]
  },
  {
   "cell_type": "code",
   "execution_count": null,
   "id": "6bb8ad9a",
   "metadata": {
    "execution": {
     "iopub.execute_input": "2022-10-07T07:03:14.270409Z",
     "iopub.status.busy": "2022-10-07T07:03:14.269546Z",
     "iopub.status.idle": "2022-10-07T07:03:14.335674Z",
     "shell.execute_reply": "2022-10-07T07:03:14.334529Z"
    },
    "papermill": {
     "duration": 0.141622,
     "end_time": "2022-10-07T07:03:14.338087",
     "exception": false,
     "start_time": "2022-10-07T07:03:14.196465",
     "status": "completed"
    },
    "tags": []
   },
   "outputs": [],
   "source": [
    "fig = px.scatter(cars_data, x = 'city_mpg', y = 'price', color = 'cylinders')\n",
    "fig.show()"
   ]
  },
  {
   "cell_type": "markdown",
   "id": "dfcf85a9",
   "metadata": {
    "papermill": {
     "duration": 0.071128,
     "end_time": "2022-10-07T07:03:14.480965",
     "exception": false,
     "start_time": "2022-10-07T07:03:14.409837",
     "status": "completed"
    },
    "tags": []
   },
   "source": [
    "**Insights**\n",
    "* Cars that are giving a city mpg of 10 and 11 have only 8 cylinders.\n",
    "* Cars that are giving a city mpg of 17 have mostly 6 cylinders.\n",
    "* Cars with 4 cylinders have a really good mpg inside a city.\n",
    "* The prices of cars with different city mpg varies. It can be as low as 2000 and as high as 70K."
   ]
  },
  {
   "cell_type": "code",
   "execution_count": null,
   "id": "a149611d",
   "metadata": {
    "execution": {
     "iopub.execute_input": "2022-10-07T07:03:14.633197Z",
     "iopub.status.busy": "2022-10-07T07:03:14.632421Z",
     "iopub.status.idle": "2022-10-07T07:03:14.697358Z",
     "shell.execute_reply": "2022-10-07T07:03:14.695902Z"
    },
    "papermill": {
     "duration": 0.146525,
     "end_time": "2022-10-07T07:03:14.701182",
     "exception": false,
     "start_time": "2022-10-07T07:03:14.554657",
     "status": "completed"
    },
    "tags": []
   },
   "outputs": [],
   "source": [
    "fig = px.scatter(cars_data, x = 'highway_mpg', y = 'price', color = 'cylinders')\n",
    "fig.show()"
   ]
  },
  {
   "cell_type": "markdown",
   "id": "3206e4ef",
   "metadata": {
    "papermill": {
     "duration": 0.076238,
     "end_time": "2022-10-07T07:03:14.857008",
     "exception": false,
     "start_time": "2022-10-07T07:03:14.780770",
     "status": "completed"
    },
    "tags": []
   },
   "source": [
    "**Insights**\n",
    "* Cars that are giving a highway mpg of 12, 13, 14, 15, 16, 17 and 18 have mostly 8 cylinders.\n",
    "* Cars that are giving a highway mpg from 19 to 27 have mostly 6 cylinders.\n",
    "* Cars giving a highway mpg 28 or more than 28 have mostly 4 cylinders.\n",
    "* The prices of cars with different highway mpg varies. It can be as low as 2000 and as high as 70K."
   ]
  },
  {
   "cell_type": "code",
   "execution_count": null,
   "id": "251ca86a",
   "metadata": {
    "execution": {
     "iopub.execute_input": "2022-10-07T07:03:15.017612Z",
     "iopub.status.busy": "2022-10-07T07:03:15.016871Z",
     "iopub.status.idle": "2022-10-07T07:03:15.084448Z",
     "shell.execute_reply": "2022-10-07T07:03:15.083039Z"
    },
    "papermill": {
     "duration": 0.15303,
     "end_time": "2022-10-07T07:03:15.088575",
     "exception": false,
     "start_time": "2022-10-07T07:03:14.935545",
     "status": "completed"
    },
    "tags": []
   },
   "outputs": [],
   "source": [
    "fig = px.scatter(cars_data, x = 'popularity', y = 'price', color = 'cylinders')\n",
    "fig.show()"
   ]
  },
  {
   "cell_type": "markdown",
   "id": "a73038be",
   "metadata": {
    "papermill": {
     "duration": 0.077846,
     "end_time": "2022-10-07T07:03:15.246653",
     "exception": false,
     "start_time": "2022-10-07T07:03:15.168807",
     "status": "completed"
    },
    "tags": []
   },
   "source": [
    "**Insights**\n",
    "* Most of the cars having popularity of 204 with 6 cylinders have prices starting 35K and goes as high as 57K.\n",
    "* Cars having popularity of 549 with 8 cylinders have prices starting from 42K and goes as high as 70.2K\n",
    "* Cars having popularity of 1385 and 8 cylinders have prices higher than 44K.\n",
    "* Cars having popularity of 5657 and prices above than 21K are more likely to have 6 cylinders."
   ]
  },
  {
   "cell_type": "markdown",
   "id": "c3bf1928",
   "metadata": {
    "papermill": {
     "duration": 0.076664,
     "end_time": "2022-10-07T07:03:15.404662",
     "exception": false,
     "start_time": "2022-10-07T07:03:15.327998",
     "status": "completed"
    },
    "tags": []
   },
   "source": [
    "# Preprocessing"
   ]
  },
  {
   "cell_type": "markdown",
   "id": "2f8e0f73",
   "metadata": {
    "papermill": {
     "duration": 0.077405,
     "end_time": "2022-10-07T07:03:15.560150",
     "exception": false,
     "start_time": "2022-10-07T07:03:15.482745",
     "status": "completed"
    },
    "tags": []
   },
   "source": [
    "> Making the dummies of for the machine learning process. This is very important as machine learning does not deal with categorical features. Therefore, i used pandas for the purpose of encoding these categorical features."
   ]
  },
  {
   "cell_type": "code",
   "execution_count": null,
   "id": "934d1424",
   "metadata": {
    "execution": {
     "iopub.execute_input": "2022-10-07T07:03:15.717763Z",
     "iopub.status.busy": "2022-10-07T07:03:15.717303Z",
     "iopub.status.idle": "2022-10-07T07:03:15.790907Z",
     "shell.execute_reply": "2022-10-07T07:03:15.789498Z"
    },
    "papermill": {
     "duration": 0.154859,
     "end_time": "2022-10-07T07:03:15.793822",
     "exception": false,
     "start_time": "2022-10-07T07:03:15.638963",
     "status": "completed"
    },
    "tags": []
   },
   "outputs": [],
   "source": [
    "cat_features = ['make', 'model', 'fuel_type', 'transmission', 'drive', 'size', 'style']\n",
    "cars_data = pd.get_dummies(cars_data, columns = cat_features)"
   ]
  },
  {
   "cell_type": "markdown",
   "id": "086b5acd",
   "metadata": {
    "papermill": {
     "duration": 0.077288,
     "end_time": "2022-10-07T07:03:15.949874",
     "exception": false,
     "start_time": "2022-10-07T07:03:15.872586",
     "status": "completed"
    },
    "tags": []
   },
   "source": [
    "> Splitting the dataset into train and test split. I'll keep the test size of 0.2."
   ]
  },
  {
   "cell_type": "code",
   "execution_count": null,
   "id": "ac8de66c",
   "metadata": {
    "execution": {
     "iopub.execute_input": "2022-10-07T07:03:16.109294Z",
     "iopub.status.busy": "2022-10-07T07:03:16.108839Z",
     "iopub.status.idle": "2022-10-07T07:03:16.195110Z",
     "shell.execute_reply": "2022-10-07T07:03:16.193859Z"
    },
    "papermill": {
     "duration": 0.169517,
     "end_time": "2022-10-07T07:03:16.198232",
     "exception": false,
     "start_time": "2022-10-07T07:03:16.028715",
     "status": "completed"
    },
    "tags": []
   },
   "outputs": [],
   "source": [
    "X = cars_data.drop('price', axis = 1)\n",
    "y = cars_data['price']\n",
    "\n",
    "X_train, X_test, y_train, y_test = train_test_split(X, y, test_size = 0.2, random_state = 1)"
   ]
  },
  {
   "cell_type": "markdown",
   "id": "a876c637",
   "metadata": {
    "papermill": {
     "duration": 0.079206,
     "end_time": "2022-10-07T07:03:16.356182",
     "exception": false,
     "start_time": "2022-10-07T07:03:16.276976",
     "status": "completed"
    },
    "tags": []
   },
   "source": [
    "> Now i'll do normalization or standardize my data by using Standard Scaler."
   ]
  },
  {
   "cell_type": "code",
   "execution_count": null,
   "id": "01c43615",
   "metadata": {
    "execution": {
     "iopub.execute_input": "2022-10-07T07:03:16.590107Z",
     "iopub.status.busy": "2022-10-07T07:03:16.589613Z",
     "iopub.status.idle": "2022-10-07T07:03:16.760981Z",
     "shell.execute_reply": "2022-10-07T07:03:16.759745Z"
    },
    "papermill": {
     "duration": 0.252383,
     "end_time": "2022-10-07T07:03:16.763940",
     "exception": false,
     "start_time": "2022-10-07T07:03:16.511557",
     "status": "completed"
    },
    "tags": []
   },
   "outputs": [],
   "source": [
    "sc = StandardScaler()\n",
    "X_train = sc.fit_transform(X_train)\n",
    "X_test = sc.transform(X_test)"
   ]
  },
  {
   "cell_type": "markdown",
   "id": "48619712",
   "metadata": {
    "papermill": {
     "duration": 0.077467,
     "end_time": "2022-10-07T07:03:16.918754",
     "exception": false,
     "start_time": "2022-10-07T07:03:16.841287",
     "status": "completed"
    },
    "tags": []
   },
   "source": [
    "# Modeling"
   ]
  },
  {
   "cell_type": "markdown",
   "id": "17a9d825",
   "metadata": {
    "papermill": {
     "duration": 0.078532,
     "end_time": "2022-10-07T07:03:17.075267",
     "exception": false,
     "start_time": "2022-10-07T07:03:16.996735",
     "status": "completed"
    },
    "tags": []
   },
   "source": [
    "> I've decided to use random forest regressor model for my current dataset. Let's make a model at first and then make a pipeline. Later i'll fit the model and then use it for prediction. "
   ]
  },
  {
   "cell_type": "code",
   "execution_count": null,
   "id": "4023b963",
   "metadata": {
    "execution": {
     "iopub.execute_input": "2022-10-07T07:03:17.233000Z",
     "iopub.status.busy": "2022-10-07T07:03:17.232472Z",
     "iopub.status.idle": "2022-10-07T07:03:25.022153Z",
     "shell.execute_reply": "2022-10-07T07:03:25.020832Z"
    },
    "papermill": {
     "duration": 7.872421,
     "end_time": "2022-10-07T07:03:25.025299",
     "exception": false,
     "start_time": "2022-10-07T07:03:17.152878",
     "status": "completed"
    },
    "tags": []
   },
   "outputs": [],
   "source": [
    "rfr = RandomForestRegressor(n_estimators = 40)\n",
    "rfr_algo = make_pipeline(rfr)\n",
    "\n",
    "rfr_algo.fit(X_train, y_train)\n",
    "rfr_pred = rfr_algo.predict(X_test)\n",
    "\n",
    "print('R2 Score is : ', r2_score(y_test, rfr_pred))\n",
    "print('Mean squared error is : ', math.sqrt(mean_squared_error(y_test, rfr_pred)))"
   ]
  },
  {
   "cell_type": "markdown",
   "id": "7195e4e0",
   "metadata": {
    "papermill": {
     "duration": 0.077713,
     "end_time": "2022-10-07T07:03:25.181529",
     "exception": false,
     "start_time": "2022-10-07T07:03:25.103816",
     "status": "completed"
    },
    "tags": []
   },
   "source": [
    "> Let's visualise our model's performace to see how it worked."
   ]
  },
  {
   "cell_type": "code",
   "execution_count": null,
   "id": "364f7219",
   "metadata": {
    "execution": {
     "iopub.execute_input": "2022-10-07T07:03:25.340361Z",
     "iopub.status.busy": "2022-10-07T07:03:25.339496Z",
     "iopub.status.idle": "2022-10-07T07:03:25.875142Z",
     "shell.execute_reply": "2022-10-07T07:03:25.873896Z"
    },
    "papermill": {
     "duration": 0.618311,
     "end_time": "2022-10-07T07:03:25.877739",
     "exception": false,
     "start_time": "2022-10-07T07:03:25.259428",
     "status": "completed"
    },
    "tags": []
   },
   "outputs": [],
   "source": [
    "plt.figure(figsize=(10,10))\n",
    "plt.ylabel(\"Predicted Value\")\n",
    "sns.regplot(y_test, rfr_pred, fit_reg=True, scatter_kws={\"s\": 100})"
   ]
  },
  {
   "attachments": {},
   "cell_type": "markdown",
   "id": "a8305f94",
   "metadata": {
    "papermill": {
     "duration": 0.075186,
     "end_time": "2022-10-07T07:03:26.031869",
     "exception": false,
     "start_time": "2022-10-07T07:03:25.956683",
     "status": "completed"
    },
    "tags": []
   },
   "source": [
    "**Conclusion**\n",
    "* The model performed really well with the r2 score of 0.95. \n",
    "* The mean square error is also 3331.\n",
    "\n"
   ]
  }
 ],
 "metadata": {
  "kernelspec": {
   "display_name": "Python 3",
   "language": "python",
   "name": "python3"
  },
  "language_info": {
   "codemirror_mode": {
    "name": "ipython",
    "version": 3
   },
   "file_extension": ".py",
   "mimetype": "text/x-python",
   "name": "python",
   "nbconvert_exporter": "python",
   "pygments_lexer": "ipython3",
   "version": "3.10.6"
  },
  "papermill": {
   "default_parameters": {},
   "duration": 39.868601,
   "end_time": "2022-10-07T07:03:27.136454",
   "environment_variables": {},
   "exception": null,
   "input_path": "__notebook__.ipynb",
   "output_path": "__notebook__.ipynb",
   "parameters": {},
   "start_time": "2022-10-07T07:02:47.267853",
   "version": "2.3.4"
  },
  "vscode": {
   "interpreter": {
    "hash": "26de051ba29f2982a8de78e945f0abaf191376122a1563185a90213a26c5da77"
   }
  }
 },
 "nbformat": 4,
 "nbformat_minor": 5
}
